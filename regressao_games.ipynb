{
 "cells": [
  {
   "cell_type": "code",
   "execution_count": 2,
   "metadata": {},
   "outputs": [],
   "source": [
    "import pandas as pd\n",
    "from keras.layers import Dense, Dropout, Activation, Input\n",
    "from keras.models import Model "
   ]
  },
  {
   "cell_type": "code",
   "execution_count": 5,
   "metadata": {},
   "outputs": [],
   "source": [
    "base=pd.read_csv('games.csv')\n",
    "base=base.drop('Other_Sales',axis=1)\n",
    "base=base.drop('Global_Sales',axis=1)\n",
    "base=base.drop('Developer',axis=1) "
   ]
  },
  {
   "cell_type": "code",
   "execution_count": 9,
   "metadata": {},
   "outputs": [],
   "source": [
    "base=base.dropna(axis=0)\n",
    "base=base.loc[base['NA_Sales']>1]\n",
    "base=base.loc[base['EU_Sales']>1]"
   ]
  },
  {
   "cell_type": "code",
   "execution_count": 11,
   "metadata": {},
   "outputs": [],
   "source": [
    "base['Name'].value_counts()\n",
    "nome_jogos=base.Name\n",
    "base=base.drop('Name',axis=1)"
   ]
  },
  {
   "cell_type": "code",
   "execution_count": 13,
   "metadata": {},
   "outputs": [],
   "source": [
    "previsores=base.iloc[:,[0,1,2,3,7,8,9,10,11]]\n",
    "venda_na=base.iloc[:,4].values\n",
    "venda_eu=base.iloc[:,5].values\n",
    "venda_jp=base.iloc[:,6].values"
   ]
  }
 ],
 "metadata": {
  "kernelspec": {
   "display_name": "Python 3",
   "language": "python",
   "name": "python3"
  },
  "language_info": {
   "codemirror_mode": {
    "name": "ipython",
    "version": 3
   },
   "file_extension": ".py",
   "mimetype": "text/x-python",
   "name": "python",
   "nbconvert_exporter": "python",
   "pygments_lexer": "ipython3",
   "version": "3.12.3"
  }
 },
 "nbformat": 4,
 "nbformat_minor": 2
}
