{
 "cells": [
  {
   "cell_type": "code",
   "execution_count": 29,
   "metadata": {},
   "outputs": [],
   "source": [
    "from keras.datasets import mnist # type: ignore\n",
    "from keras.models import Sequential # type: ignore\n",
    "from keras.layers import Dense, Flatten, Dropout, Conv2D, MaxPooling2D # type: ignore #3º Etapa e 4º Etapa\n",
    "from tensorflow.keras import utils as np_utils # type: ignore  \n",
    "import numpy as np\n",
    "from sklearn.model_selection import StratifiedGroupKFold"
   ]
  },
  {
   "cell_type": "code",
   "execution_count": 30,
   "metadata": {},
   "outputs": [],
   "source": [
    "seed=5\n",
    "np.random.seed(seed)"
   ]
  },
  {
   "cell_type": "code",
   "execution_count": 31,
   "metadata": {},
   "outputs": [],
   "source": [
    "(X, y), (X_teste, y_teste) = mnist.load_data() #Atribuindo valores do DataSet as variavéis\n",
    "previsores=X.reshape(X.shape[0], 28, 28, 1) \n",
    "previsores=previsores.astype('float') #Transformado para float32\n",
    "previsores/=255 #Normalização entre 0 e 1\n",
    "classe=np_utils.to_categorical(y,10) #Criando variavéis do tipo Dummy"
   ]
  },
  {
   "cell_type": "code",
   "execution_count": 32,
   "metadata": {},
   "outputs": [],
   "source": [
    "kfold=StratifiedGroupKFold(n_splits=5, shuffle=True, random_state=seed) #kfold ira controlar a validação cruzada, n_splits é o numero de folds que queremos usar ou seja aqui quebramos a base de dados em 5, shuffle ira pegar os dados aleatoriamente, random state tera o valor do seed (nossa variavel)"
   ]
  },
  {
   "cell_type": "code",
   "execution_count": 33,
   "metadata": {},
   "outputs": [],
   "source": [
    "resultados = []"
   ]
  },
  {
   "cell_type": "code",
   "execution_count": 34,
   "metadata": {},
   "outputs": [],
   "source": [
    "a=np.zeros(5)\n",
    "b=np.zeros(shape=(classe.shape[0], 1))"
   ]
  },
  {
   "cell_type": "code",
   "execution_count": 38,
   "metadata": {},
   "outputs": [
    {
     "name": "stdout",
     "output_type": "stream",
     "text": [
      "Indices Treinamento [    0     1     2 ... 59997 59998 59999], Indice Teste []\n",
      "Indices Treinamento [    0     1     2 ... 59997 59998 59999], Indice Teste []\n",
      "Indices Treinamento [    0     1     2 ... 59997 59998 59999], Indice Teste []\n",
      "Indices Treinamento [    0     1     2 ... 59997 59998 59999], Indice Teste []\n",
      "Indices Treinamento [    1     2     3 ... 59997 59998 59999], Indice Teste [0]\n"
     ]
    }
   ],
   "source": [
    "for indice_treinamento, indice_teste in kfold.split(previsores,\n",
    "                                                    np.zeros(shape=(classe.shape[0], 1))):\n",
    "    print(f'Indices Treinamento {indice_treinamento}, Indice Teste {indice_teste}')\n",
    "    "
   ]
  }
 ],
 "metadata": {
  "kernelspec": {
   "display_name": "Python 3",
   "language": "python",
   "name": "python3"
  },
  "language_info": {
   "codemirror_mode": {
    "name": "ipython",
    "version": 3
   },
   "file_extension": ".py",
   "mimetype": "text/x-python",
   "name": "python",
   "nbconvert_exporter": "python",
   "pygments_lexer": "ipython3",
   "version": "3.12.3"
  }
 },
 "nbformat": 4,
 "nbformat_minor": 2
}
