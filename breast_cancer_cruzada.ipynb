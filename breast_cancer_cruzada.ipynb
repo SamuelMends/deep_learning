{
 "cells": [
  {
   "cell_type": "code",
   "execution_count": 36,
   "metadata": {},
   "outputs": [],
   "source": [
    "import pandas as pd\n",
    "import keras\n",
    "from keras.models import Sequential\n",
    "from keras.layers import Dense, Dropout\n",
    "from scikeras.wrappers import KerasClassifier\n",
    "from sklearn.model_selection import GridSearchCV"
   ]
  },
  {
   "cell_type": "code",
   "execution_count": 34,
   "metadata": {},
   "outputs": [],
   "source": [
    "previsores = pd.read_csv('entradas_breast.csv')\n",
    "classe = pd.read_csv('saidas_breast.csv')"
   ]
  },
  {
   "cell_type": "code",
   "execution_count": 35,
   "metadata": {},
   "outputs": [],
   "source": [
    "def criarRede():\n",
    "    classificador = Sequential()\n",
    "    classificador.add(Dense(units=16, activation= 'relu', kernel_initializer= 'random_uniform', input_dim = 30))\n",
    "    classificador.add(Dropout(0.2))\n",
    "    classificador.add(Dense(units=16, activation= 'relu', kernel_initializer='random_uniform'))\n",
    "    classificador.add(Dropout(0.2))\n",
    "    classificador.add(Dense(units=1, activation= 'sigmoid'))\n",
    "    otimizador = keras.optimizers.Adam(learning_rate = 0.001, weight_decay = 0.0001, clipvalue = 0.5)\n",
    "    classificador.compile(optimzer = otimizador, loss = 'binary_crossentropy', metrics = ['binary_accuracy'])\n",
    "    return classificador"
   ]
  }
 ],
 "metadata": {
  "kernelspec": {
   "display_name": "Python 3",
   "language": "python",
   "name": "python3"
  },
  "language_info": {
   "codemirror_mode": {
    "name": "ipython",
    "version": 3
   },
   "file_extension": ".py",
   "mimetype": "text/x-python",
   "name": "python",
   "nbconvert_exporter": "python",
   "pygments_lexer": "ipython3",
   "version": "3.12.3"
  }
 },
 "nbformat": 4,
 "nbformat_minor": 2
}
