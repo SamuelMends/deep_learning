{
 "cells": [
  {
   "cell_type": "code",
   "execution_count": 62,
   "metadata": {},
   "outputs": [],
   "source": [
    "import pandas as pd\n",
    "import keras\n",
    "from keras.models import Sequential\n",
    "from keras.layers import Dense, Dropout\n",
    "from scikeras.wrappers import KerasClassifier\n",
    "from sklearn.model_selection import GridSearchCV"
   ]
  },
  {
   "cell_type": "code",
   "execution_count": 63,
   "metadata": {},
   "outputs": [],
   "source": [
    "previsores = pd.read_csv('entradas_breast.csv')\n",
    "classe = pd.read_csv('saidas_breast.csv')"
   ]
  },
  {
   "cell_type": "code",
   "execution_count": 73,
   "metadata": {},
   "outputs": [
    {
     "name": "stdout",
     "output_type": "stream",
     "text": [
      "(569, 30)\n",
      "(569, 1)\n",
      "<class 'pandas.core.frame.DataFrame'>\n"
     ]
    }
   ],
   "source": [
    "print(previsores.shape)\n",
    "print(classe.shape)\n",
    "print(type(classe))"
   ]
  },
  {
   "cell_type": "code",
   "execution_count": 64,
   "metadata": {},
   "outputs": [],
   "source": [
    "def criarRede(optimizer, loos, kernel_initializer, activation, neurons):\n",
    "    classificador = Sequential()\n",
    "    classificador.add(Dense(units=neurons, activation= activation, kernel_initializer= kernel_initializer, input_dim = 30))\n",
    "    classificador.add(Dropout(0.2))\n",
    "    classificador.add(Dense(units=neurons, activation= activation, kernel_initializer=kernel_initializer))\n",
    "    classificador.add(Dropout(0.2))\n",
    "    classificador.add(Dense(units=1, activation= 'sigmoid'))\n",
    "    classificador.compile(optimzer = optimizer, loss = loos, metrics = ['binary_accuracy'])\n",
    "    return classificador"
   ]
  },
  {
   "cell_type": "code",
   "execution_count": 65,
   "metadata": {},
   "outputs": [],
   "source": [
    "classificador = KerasClassifier(build_fn= criarRede)\n",
    "parametros = {'batch_size': [10, 30], 'epochs': [50, 100], 'optimizer': ['adam','sgd'], 'loss': ['binary_crossentropy', 'hinge'], 'kernel_initializer': ['random_uniform', 'normal'], 'activation': ['relu', 'tanh'], 'neurons':[16,8]}"
   ]
  },
  {
   "cell_type": "code",
   "execution_count": 66,
   "metadata": {},
   "outputs": [],
   "source": [
    "grid_search = GridSearchCV(estimator= classificador, param_grid= parametros, scoring= 'accuracy', cv=5)"
   ]
  }
 ],
 "metadata": {
  "kernelspec": {
   "display_name": "Python 3",
   "language": "python",
   "name": "python3"
  },
  "language_info": {
   "codemirror_mode": {
    "name": "ipython",
    "version": 3
   },
   "file_extension": ".py",
   "mimetype": "text/x-python",
   "name": "python",
   "nbconvert_exporter": "python",
   "pygments_lexer": "ipython3",
   "version": "3.12.3"
  }
 },
 "nbformat": 4,
 "nbformat_minor": 2
}
