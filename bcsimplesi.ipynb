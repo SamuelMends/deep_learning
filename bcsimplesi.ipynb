{
 "cells": [
  {
   "cell_type": "code",
   "execution_count": 46,
   "metadata": {},
   "outputs": [],
   "source": [
    "import pandas as pd\n",
    "from sklearn.model_selection import train_test_split\n",
    "import keras\n",
    "from keras.models import Sequential\n",
    "from keras.layers import Dense\n",
    "from sklearn.metrics import confusion_matrix, accuracy_score"
   ]
  },
  {
   "cell_type": "code",
   "execution_count": 47,
   "metadata": {},
   "outputs": [],
   "source": [
    "base = pd.read_csv('nba_logreg.csv')\n",
    "previsores = base.iloc[:, 1:20].values\n",
    "classe = base.iloc[:, 20].values"
   ]
  },
  {
   "cell_type": "code",
   "execution_count": 48,
   "metadata": {},
   "outputs": [
    {
     "name": "stdout",
     "output_type": "stream",
     "text": [
      "(1340, 21)\n"
     ]
    }
   ],
   "source": [
    "print(base.shape)"
   ]
  },
  {
   "cell_type": "code",
   "execution_count": 49,
   "metadata": {},
   "outputs": [],
   "source": [
    "previsores_treinamento, previsores_teste, classe_treinamento, classe_teste = train_test_split(previsores, classe, test_size=0.25)"
   ]
  },
  {
   "cell_type": "code",
   "execution_count": 50,
   "metadata": {},
   "outputs": [],
   "source": [
    "previsores_treinamento = previsores_treinamento.astype('float32')\n",
    "classe_treinamento = classe_treinamento.astype('int32')\n",
    "previsores_teste = previsores_teste.astype('float32')\n",
    "#classe_teste = classe_teste.astype('int32')"
   ]
  },
  {
   "cell_type": "code",
   "execution_count": 51,
   "metadata": {},
   "outputs": [
    {
     "name": "stderr",
     "output_type": "stream",
     "text": [
      "c:\\Users\\samue\\AppData\\Local\\Programs\\Python\\Python312\\Lib\\site-packages\\keras\\src\\layers\\core\\dense.py:87: UserWarning: Do not pass an `input_shape`/`input_dim` argument to a layer. When using Sequential models, prefer using an `Input(shape)` object as the first layer in the model instead.\n",
      "  super().__init__(activity_regularizer=activity_regularizer, **kwargs)\n"
     ]
    }
   ],
   "source": [
    "classificador = Sequential()\n",
    "classificador.add(Dense(units=11, activation='relu', kernel_initializer='random_uniform', input_dim=19))\n",
    "classificador.add(Dense(units=11, activation='relu', kernel_initializer='random_uniform'))\n",
    "classificador.add(Dense(units=1, activation='relu'))"
   ]
  },
  {
   "cell_type": "code",
   "execution_count": 52,
   "metadata": {},
   "outputs": [
    {
     "name": "stdout",
     "output_type": "stream",
     "text": [
      "Epoch 1/100\n"
     ]
    },
    {
     "name": "stdout",
     "output_type": "stream",
     "text": [
      "\u001b[1m101/101\u001b[0m \u001b[32m━━━━━━━━━━━━━━━━━━━━\u001b[0m\u001b[37m\u001b[0m \u001b[1m1s\u001b[0m 839us/step - binary_accuracy: 0.3604 - loss: 2.1776\n",
      "Epoch 2/100\n",
      "\u001b[1m101/101\u001b[0m \u001b[32m━━━━━━━━━━━━━━━━━━━━\u001b[0m\u001b[37m\u001b[0m \u001b[1m0s\u001b[0m 824us/step - binary_accuracy: 0.3916 - loss: 1.3280\n",
      "Epoch 3/100\n",
      "\u001b[1m101/101\u001b[0m \u001b[32m━━━━━━━━━━━━━━━━━━━━\u001b[0m\u001b[37m\u001b[0m \u001b[1m0s\u001b[0m 823us/step - binary_accuracy: 0.3989 - loss: 1.0743\n",
      "Epoch 4/100\n",
      "\u001b[1m101/101\u001b[0m \u001b[32m━━━━━━━━━━━━━━━━━━━━\u001b[0m\u001b[37m\u001b[0m \u001b[1m0s\u001b[0m 825us/step - binary_accuracy: 0.3853 - loss: 0.9432\n",
      "Epoch 5/100\n",
      "\u001b[1m101/101\u001b[0m \u001b[32m━━━━━━━━━━━━━━━━━━━━\u001b[0m\u001b[37m\u001b[0m \u001b[1m0s\u001b[0m 897us/step - binary_accuracy: 0.4046 - loss: 0.8262\n",
      "Epoch 6/100\n",
      "\u001b[1m101/101\u001b[0m \u001b[32m━━━━━━━━━━━━━━━━━━━━\u001b[0m\u001b[37m\u001b[0m \u001b[1m0s\u001b[0m 863us/step - binary_accuracy: 0.3720 - loss: 0.7766\n",
      "Epoch 7/100\n",
      "\u001b[1m101/101\u001b[0m \u001b[32m━━━━━━━━━━━━━━━━━━━━\u001b[0m\u001b[37m\u001b[0m \u001b[1m0s\u001b[0m 936us/step - binary_accuracy: 0.4130 - loss: 0.7176\n",
      "Epoch 8/100\n",
      "\u001b[1m101/101\u001b[0m \u001b[32m━━━━━━━━━━━━━━━━━━━━\u001b[0m\u001b[37m\u001b[0m \u001b[1m0s\u001b[0m 1ms/step - binary_accuracy: 0.4545 - loss: 0.6954\n",
      "Epoch 9/100\n",
      "\u001b[1m101/101\u001b[0m \u001b[32m━━━━━━━━━━━━━━━━━━━━\u001b[0m\u001b[37m\u001b[0m \u001b[1m0s\u001b[0m 907us/step - binary_accuracy: 0.5994 - loss: 0.6814\n",
      "Epoch 10/100\n",
      "\u001b[1m101/101\u001b[0m \u001b[32m━━━━━━━━━━━━━━━━━━━━\u001b[0m\u001b[37m\u001b[0m \u001b[1m0s\u001b[0m 869us/step - binary_accuracy: 0.6064 - loss: 0.6738\n",
      "Epoch 11/100\n",
      "\u001b[1m101/101\u001b[0m \u001b[32m━━━━━━━━━━━━━━━━━━━━\u001b[0m\u001b[37m\u001b[0m \u001b[1m0s\u001b[0m 871us/step - binary_accuracy: 0.6000 - loss: 0.6735\n",
      "Epoch 12/100\n",
      "\u001b[1m101/101\u001b[0m \u001b[32m━━━━━━━━━━━━━━━━━━━━\u001b[0m\u001b[37m\u001b[0m \u001b[1m0s\u001b[0m 862us/step - binary_accuracy: 0.5942 - loss: 0.6756\n",
      "Epoch 13/100\n",
      "\u001b[1m101/101\u001b[0m \u001b[32m━━━━━━━━━━━━━━━━━━━━\u001b[0m\u001b[37m\u001b[0m \u001b[1m0s\u001b[0m 2ms/step - binary_accuracy: 0.6024 - loss: 0.6724\n",
      "Epoch 14/100\n",
      "\u001b[1m101/101\u001b[0m \u001b[32m━━━━━━━━━━━━━━━━━━━━\u001b[0m\u001b[37m\u001b[0m \u001b[1m0s\u001b[0m 1ms/step - binary_accuracy: 0.6127 - loss: 0.6677\n",
      "Epoch 15/100\n",
      "\u001b[1m101/101\u001b[0m \u001b[32m━━━━━━━━━━━━━━━━━━━━\u001b[0m\u001b[37m\u001b[0m \u001b[1m0s\u001b[0m 906us/step - binary_accuracy: 0.6195 - loss: 0.6647\n",
      "Epoch 16/100\n",
      "\u001b[1m101/101\u001b[0m \u001b[32m━━━━━━━━━━━━━━━━━━━━\u001b[0m\u001b[37m\u001b[0m \u001b[1m0s\u001b[0m 1ms/step - binary_accuracy: 0.6365 - loss: 0.6567  \n",
      "Epoch 17/100\n",
      "\u001b[1m101/101\u001b[0m \u001b[32m━━━━━━━━━━━━━━━━━━━━\u001b[0m\u001b[37m\u001b[0m \u001b[1m0s\u001b[0m 981us/step - binary_accuracy: 0.5904 - loss: 0.6784\n",
      "Epoch 18/100\n",
      "\u001b[1m101/101\u001b[0m \u001b[32m━━━━━━━━━━━━━━━━━━━━\u001b[0m\u001b[37m\u001b[0m \u001b[1m0s\u001b[0m 934us/step - binary_accuracy: 0.5926 - loss: 0.6768\n",
      "Epoch 19/100\n",
      "\u001b[1m101/101\u001b[0m \u001b[32m━━━━━━━━━━━━━━━━━━━━\u001b[0m\u001b[37m\u001b[0m \u001b[1m0s\u001b[0m 1ms/step - binary_accuracy: 0.6265 - loss: 0.6610\n",
      "Epoch 20/100\n",
      "\u001b[1m101/101\u001b[0m \u001b[32m━━━━━━━━━━━━━━━━━━━━\u001b[0m\u001b[37m\u001b[0m \u001b[1m0s\u001b[0m 1ms/step - binary_accuracy: 0.6139 - loss: 0.6672\n",
      "Epoch 21/100\n",
      "\u001b[1m101/101\u001b[0m \u001b[32m━━━━━━━━━━━━━━━━━━━━\u001b[0m\u001b[37m\u001b[0m \u001b[1m0s\u001b[0m 1ms/step - binary_accuracy: 0.5989 - loss: 0.6738\n",
      "Epoch 22/100\n",
      "\u001b[1m101/101\u001b[0m \u001b[32m━━━━━━━━━━━━━━━━━━━━\u001b[0m\u001b[37m\u001b[0m \u001b[1m0s\u001b[0m 1ms/step - binary_accuracy: 0.6264 - loss: 0.6612\n",
      "Epoch 23/100\n",
      "\u001b[1m101/101\u001b[0m \u001b[32m━━━━━━━━━━━━━━━━━━━━\u001b[0m\u001b[37m\u001b[0m \u001b[1m0s\u001b[0m 2ms/step - binary_accuracy: 0.6468 - loss: 0.6520\n",
      "Epoch 24/100\n",
      "\u001b[1m101/101\u001b[0m \u001b[32m━━━━━━━━━━━━━━━━━━━━\u001b[0m\u001b[37m\u001b[0m \u001b[1m0s\u001b[0m 1ms/step - binary_accuracy: 0.6007 - loss: 0.6731\n",
      "Epoch 25/100\n",
      "\u001b[1m101/101\u001b[0m \u001b[32m━━━━━━━━━━━━━━━━━━━━\u001b[0m\u001b[37m\u001b[0m \u001b[1m0s\u001b[0m 1ms/step - binary_accuracy: 0.6237 - loss: 0.6629\n",
      "Epoch 26/100\n",
      "\u001b[1m101/101\u001b[0m \u001b[32m━━━━━━━━━━━━━━━━━━━━\u001b[0m\u001b[37m\u001b[0m \u001b[1m0s\u001b[0m 1ms/step - binary_accuracy: 0.6116 - loss: 0.6684\n",
      "Epoch 27/100\n",
      "\u001b[1m101/101\u001b[0m \u001b[32m━━━━━━━━━━━━━━━━━━━━\u001b[0m\u001b[37m\u001b[0m \u001b[1m0s\u001b[0m 1ms/step - binary_accuracy: 0.6107 - loss: 0.6686\n",
      "Epoch 28/100\n",
      "\u001b[1m101/101\u001b[0m \u001b[32m━━━━━━━━━━━━━━━━━━━━\u001b[0m\u001b[37m\u001b[0m \u001b[1m0s\u001b[0m 1ms/step - binary_accuracy: 0.6071 - loss: 0.6705\n",
      "Epoch 29/100\n",
      "\u001b[1m101/101\u001b[0m \u001b[32m━━━━━━━━━━━━━━━━━━━━\u001b[0m\u001b[37m\u001b[0m \u001b[1m0s\u001b[0m 1ms/step - binary_accuracy: 0.6098 - loss: 0.6696\n",
      "Epoch 30/100\n",
      "\u001b[1m101/101\u001b[0m \u001b[32m━━━━━━━━━━━━━━━━━━━━\u001b[0m\u001b[37m\u001b[0m \u001b[1m0s\u001b[0m 1ms/step - binary_accuracy: 0.6130 - loss: 0.6676\n",
      "Epoch 31/100\n",
      "\u001b[1m101/101\u001b[0m \u001b[32m━━━━━━━━━━━━━━━━━━━━\u001b[0m\u001b[37m\u001b[0m \u001b[1m0s\u001b[0m 1ms/step - binary_accuracy: 0.6170 - loss: 0.6662\n",
      "Epoch 32/100\n",
      "\u001b[1m101/101\u001b[0m \u001b[32m━━━━━━━━━━━━━━━━━━━━\u001b[0m\u001b[37m\u001b[0m \u001b[1m0s\u001b[0m 1ms/step - binary_accuracy: 0.6025 - loss: 0.6731\n",
      "Epoch 33/100\n",
      "\u001b[1m101/101\u001b[0m \u001b[32m━━━━━━━━━━━━━━━━━━━━\u001b[0m\u001b[37m\u001b[0m \u001b[1m0s\u001b[0m 1ms/step - binary_accuracy: 0.6106 - loss: 0.6688\n",
      "Epoch 34/100\n",
      "\u001b[1m101/101\u001b[0m \u001b[32m━━━━━━━━━━━━━━━━━━━━\u001b[0m\u001b[37m\u001b[0m \u001b[1m0s\u001b[0m 1ms/step - binary_accuracy: 0.6036 - loss: 0.6718\n",
      "Epoch 35/100\n",
      "\u001b[1m101/101\u001b[0m \u001b[32m━━━━━━━━━━━━━━━━━━━━\u001b[0m\u001b[37m\u001b[0m \u001b[1m0s\u001b[0m 939us/step - binary_accuracy: 0.6078 - loss: 0.6702\n",
      "Epoch 36/100\n",
      "\u001b[1m101/101\u001b[0m \u001b[32m━━━━━━━━━━━━━━━━━━━━\u001b[0m\u001b[37m\u001b[0m \u001b[1m0s\u001b[0m 1ms/step - binary_accuracy: 0.6023 - loss: 0.6729\n",
      "Epoch 37/100\n",
      "\u001b[1m101/101\u001b[0m \u001b[32m━━━━━━━━━━━━━━━━━━━━\u001b[0m\u001b[37m\u001b[0m \u001b[1m0s\u001b[0m 926us/step - binary_accuracy: 0.6177 - loss: 0.6653\n",
      "Epoch 38/100\n",
      "\u001b[1m101/101\u001b[0m \u001b[32m━━━━━━━━━━━━━━━━━━━━\u001b[0m\u001b[37m\u001b[0m \u001b[1m0s\u001b[0m 898us/step - binary_accuracy: 0.6126 - loss: 0.6680\n",
      "Epoch 39/100\n",
      "\u001b[1m101/101\u001b[0m \u001b[32m━━━━━━━━━━━━━━━━━━━━\u001b[0m\u001b[37m\u001b[0m \u001b[1m0s\u001b[0m 906us/step - binary_accuracy: 0.5959 - loss: 0.6758\n",
      "Epoch 40/100\n",
      "\u001b[1m101/101\u001b[0m \u001b[32m━━━━━━━━━━━━━━━━━━━━\u001b[0m\u001b[37m\u001b[0m \u001b[1m0s\u001b[0m 928us/step - binary_accuracy: 0.6146 - loss: 0.6671\n",
      "Epoch 41/100\n",
      "\u001b[1m101/101\u001b[0m \u001b[32m━━━━━━━━━━━━━━━━━━━━\u001b[0m\u001b[37m\u001b[0m \u001b[1m0s\u001b[0m 951us/step - binary_accuracy: 0.6177 - loss: 0.6659\n",
      "Epoch 42/100\n",
      "\u001b[1m101/101\u001b[0m \u001b[32m━━━━━━━━━━━━━━━━━━━━\u001b[0m\u001b[37m\u001b[0m \u001b[1m0s\u001b[0m 1ms/step - binary_accuracy: 0.6277 - loss: 0.6608\n",
      "Epoch 43/100\n",
      "\u001b[1m101/101\u001b[0m \u001b[32m━━━━━━━━━━━━━━━━━━━━\u001b[0m\u001b[37m\u001b[0m \u001b[1m0s\u001b[0m 863us/step - binary_accuracy: 0.6154 - loss: 0.6665\n",
      "Epoch 44/100\n",
      "\u001b[1m101/101\u001b[0m \u001b[32m━━━━━━━━━━━━━━━━━━━━\u001b[0m\u001b[37m\u001b[0m \u001b[1m0s\u001b[0m 897us/step - binary_accuracy: 0.5988 - loss: 0.6742\n",
      "Epoch 45/100\n",
      "\u001b[1m101/101\u001b[0m \u001b[32m━━━━━━━━━━━━━━━━━━━━\u001b[0m\u001b[37m\u001b[0m \u001b[1m0s\u001b[0m 888us/step - binary_accuracy: 0.6030 - loss: 0.6728\n",
      "Epoch 46/100\n",
      "\u001b[1m101/101\u001b[0m \u001b[32m━━━━━━━━━━━━━━━━━━━━\u001b[0m\u001b[37m\u001b[0m \u001b[1m0s\u001b[0m 904us/step - binary_accuracy: 0.5949 - loss: 0.6762\n",
      "Epoch 47/100\n",
      "\u001b[1m101/101\u001b[0m \u001b[32m━━━━━━━━━━━━━━━━━━━━\u001b[0m\u001b[37m\u001b[0m \u001b[1m0s\u001b[0m 880us/step - binary_accuracy: 0.6040 - loss: 0.6725\n",
      "Epoch 48/100\n",
      "\u001b[1m101/101\u001b[0m \u001b[32m━━━━━━━━━━━━━━━━━━━━\u001b[0m\u001b[37m\u001b[0m \u001b[1m0s\u001b[0m 886us/step - binary_accuracy: 0.6058 - loss: 0.6711\n",
      "Epoch 49/100\n",
      "\u001b[1m101/101\u001b[0m \u001b[32m━━━━━━━━━━━━━━━━━━━━\u001b[0m\u001b[37m\u001b[0m \u001b[1m0s\u001b[0m 1ms/step - binary_accuracy: 0.6026 - loss: 0.6727\n",
      "Epoch 50/100\n",
      "\u001b[1m101/101\u001b[0m \u001b[32m━━━━━━━━━━━━━━━━━━━━\u001b[0m\u001b[37m\u001b[0m \u001b[1m0s\u001b[0m 2ms/step - binary_accuracy: 0.5926 - loss: 0.6771\n",
      "Epoch 51/100\n",
      "\u001b[1m101/101\u001b[0m \u001b[32m━━━━━━━━━━━━━━━━━━━━\u001b[0m\u001b[37m\u001b[0m \u001b[1m0s\u001b[0m 942us/step - binary_accuracy: 0.6094 - loss: 0.6699\n",
      "Epoch 52/100\n",
      "\u001b[1m101/101\u001b[0m \u001b[32m━━━━━━━━━━━━━━━━━━━━\u001b[0m\u001b[37m\u001b[0m \u001b[1m0s\u001b[0m 1ms/step - binary_accuracy: 0.6141 - loss: 0.6676\n",
      "Epoch 53/100\n",
      "\u001b[1m101/101\u001b[0m \u001b[32m━━━━━━━━━━━━━━━━━━━━\u001b[0m\u001b[37m\u001b[0m \u001b[1m0s\u001b[0m 940us/step - binary_accuracy: 0.6086 - loss: 0.6695\n",
      "Epoch 54/100\n",
      "\u001b[1m101/101\u001b[0m \u001b[32m━━━━━━━━━━━━━━━━━━━━\u001b[0m\u001b[37m\u001b[0m \u001b[1m0s\u001b[0m 1ms/step - binary_accuracy: 0.6247 - loss: 0.6624\n",
      "Epoch 55/100\n",
      "\u001b[1m101/101\u001b[0m \u001b[32m━━━━━━━━━━━━━━━━━━━━\u001b[0m\u001b[37m\u001b[0m \u001b[1m0s\u001b[0m 1ms/step - binary_accuracy: 0.6234 - loss: 0.6632\n",
      "Epoch 56/100\n",
      "\u001b[1m101/101\u001b[0m \u001b[32m━━━━━━━━━━━━━━━━━━━━\u001b[0m\u001b[37m\u001b[0m \u001b[1m0s\u001b[0m 1ms/step - binary_accuracy: 0.6241 - loss: 0.6627\n",
      "Epoch 57/100\n",
      "\u001b[1m101/101\u001b[0m \u001b[32m━━━━━━━━━━━━━━━━━━━━\u001b[0m\u001b[37m\u001b[0m \u001b[1m0s\u001b[0m 1ms/step - binary_accuracy: 0.5897 - loss: 0.6785\n",
      "Epoch 58/100\n",
      "\u001b[1m101/101\u001b[0m \u001b[32m━━━━━━━━━━━━━━━━━━━━\u001b[0m\u001b[37m\u001b[0m \u001b[1m0s\u001b[0m 1ms/step - binary_accuracy: 0.6134 - loss: 0.6675\n",
      "Epoch 59/100\n",
      "\u001b[1m101/101\u001b[0m \u001b[32m━━━━━━━━━━━━━━━━━━━━\u001b[0m\u001b[37m\u001b[0m \u001b[1m0s\u001b[0m 1ms/step - binary_accuracy: 0.6130 - loss: 0.6680\n",
      "Epoch 60/100\n",
      "\u001b[1m101/101\u001b[0m \u001b[32m━━━━━━━━━━━━━━━━━━━━\u001b[0m\u001b[37m\u001b[0m \u001b[1m0s\u001b[0m 1ms/step - binary_accuracy: 0.5945 - loss: 0.6770\n",
      "Epoch 61/100\n",
      "\u001b[1m101/101\u001b[0m \u001b[32m━━━━━━━━━━━━━━━━━━━━\u001b[0m\u001b[37m\u001b[0m \u001b[1m0s\u001b[0m 1ms/step - binary_accuracy: 0.6130 - loss: 0.6675\n",
      "Epoch 62/100\n",
      "\u001b[1m101/101\u001b[0m \u001b[32m━━━━━━━━━━━━━━━━━━━━\u001b[0m\u001b[37m\u001b[0m \u001b[1m0s\u001b[0m 2ms/step - binary_accuracy: 0.6191 - loss: 0.6653\n",
      "Epoch 63/100\n",
      "\u001b[1m101/101\u001b[0m \u001b[32m━━━━━━━━━━━━━━━━━━━━\u001b[0m\u001b[37m\u001b[0m \u001b[1m0s\u001b[0m 1ms/step - binary_accuracy: 0.6285 - loss: 0.6607\n",
      "Epoch 64/100\n",
      "\u001b[1m101/101\u001b[0m \u001b[32m━━━━━━━━━━━━━━━━━━━━\u001b[0m\u001b[37m\u001b[0m \u001b[1m0s\u001b[0m 1ms/step - binary_accuracy: 0.6267 - loss: 0.6615\n",
      "Epoch 65/100\n",
      "\u001b[1m101/101\u001b[0m \u001b[32m━━━━━━━━━━━━━━━━━━━━\u001b[0m\u001b[37m\u001b[0m \u001b[1m0s\u001b[0m 1ms/step - binary_accuracy: 0.6080 - loss: 0.6699\n",
      "Epoch 66/100\n",
      "\u001b[1m101/101\u001b[0m \u001b[32m━━━━━━━━━━━━━━━━━━━━\u001b[0m\u001b[37m\u001b[0m \u001b[1m0s\u001b[0m 1ms/step - binary_accuracy: 0.6026 - loss: 0.6730\n",
      "Epoch 67/100\n",
      "\u001b[1m101/101\u001b[0m \u001b[32m━━━━━━━━━━━━━━━━━━━━\u001b[0m\u001b[37m\u001b[0m \u001b[1m0s\u001b[0m 1ms/step - binary_accuracy: 0.6262 - loss: 0.6613\n",
      "Epoch 68/100\n",
      "\u001b[1m101/101\u001b[0m \u001b[32m━━━━━━━━━━━━━━━━━━━━\u001b[0m\u001b[37m\u001b[0m \u001b[1m0s\u001b[0m 1ms/step - binary_accuracy: 0.6044 - loss: 0.6716\n",
      "Epoch 69/100\n",
      "\u001b[1m101/101\u001b[0m \u001b[32m━━━━━━━━━━━━━━━━━━━━\u001b[0m\u001b[37m\u001b[0m \u001b[1m0s\u001b[0m 1ms/step - binary_accuracy: 0.6208 - loss: 0.6643\n",
      "Epoch 70/100\n",
      "\u001b[1m101/101\u001b[0m \u001b[32m━━━━━━━━━━━━━━━━━━━━\u001b[0m\u001b[37m\u001b[0m \u001b[1m0s\u001b[0m 1ms/step - binary_accuracy: 0.6214 - loss: 0.6638\n",
      "Epoch 71/100\n",
      "\u001b[1m101/101\u001b[0m \u001b[32m━━━━━━━━━━━━━━━━━━━━\u001b[0m\u001b[37m\u001b[0m \u001b[1m0s\u001b[0m 896us/step - binary_accuracy: 0.6333 - loss: 0.6587\n",
      "Epoch 72/100\n",
      "\u001b[1m101/101\u001b[0m \u001b[32m━━━━━━━━━━━━━━━━━━━━\u001b[0m\u001b[37m\u001b[0m \u001b[1m0s\u001b[0m 895us/step - binary_accuracy: 0.6203 - loss: 0.6650\n",
      "Epoch 73/100\n",
      "\u001b[1m101/101\u001b[0m \u001b[32m━━━━━━━━━━━━━━━━━━━━\u001b[0m\u001b[37m\u001b[0m \u001b[1m0s\u001b[0m 950us/step - binary_accuracy: 0.6119 - loss: 0.6684\n",
      "Epoch 74/100\n",
      "\u001b[1m101/101\u001b[0m \u001b[32m━━━━━━━━━━━━━━━━━━━━\u001b[0m\u001b[37m\u001b[0m \u001b[1m0s\u001b[0m 1ms/step - binary_accuracy: 0.6196 - loss: 0.6650\n",
      "Epoch 75/100\n",
      "\u001b[1m101/101\u001b[0m \u001b[32m━━━━━━━━━━━━━━━━━━━━\u001b[0m\u001b[37m\u001b[0m \u001b[1m0s\u001b[0m 972us/step - binary_accuracy: 0.6132 - loss: 0.6676\n",
      "Epoch 76/100\n",
      "\u001b[1m101/101\u001b[0m \u001b[32m━━━━━━━━━━━━━━━━━━━━\u001b[0m\u001b[37m\u001b[0m \u001b[1m0s\u001b[0m 901us/step - binary_accuracy: 0.6003 - loss: 0.6747\n",
      "Epoch 77/100\n",
      "\u001b[1m101/101\u001b[0m \u001b[32m━━━━━━━━━━━━━━━━━━━━\u001b[0m\u001b[37m\u001b[0m \u001b[1m0s\u001b[0m 983us/step - binary_accuracy: 0.5971 - loss: 0.6746\n",
      "Epoch 78/100\n",
      "\u001b[1m101/101\u001b[0m \u001b[32m━━━━━━━━━━━━━━━━━━━━\u001b[0m\u001b[37m\u001b[0m \u001b[1m0s\u001b[0m 913us/step - binary_accuracy: 0.6166 - loss: 0.6661\n",
      "Epoch 79/100\n",
      "\u001b[1m101/101\u001b[0m \u001b[32m━━━━━━━━━━━━━━━━━━━━\u001b[0m\u001b[37m\u001b[0m \u001b[1m0s\u001b[0m 944us/step - binary_accuracy: 0.5923 - loss: 0.6771\n",
      "Epoch 80/100\n",
      "\u001b[1m101/101\u001b[0m \u001b[32m━━━━━━━━━━━━━━━━━━━━\u001b[0m\u001b[37m\u001b[0m \u001b[1m0s\u001b[0m 933us/step - binary_accuracy: 0.6175 - loss: 0.6663\n",
      "Epoch 81/100\n",
      "\u001b[1m101/101\u001b[0m \u001b[32m━━━━━━━━━━━━━━━━━━━━\u001b[0m\u001b[37m\u001b[0m \u001b[1m0s\u001b[0m 939us/step - binary_accuracy: 0.6224 - loss: 0.6630\n",
      "Epoch 82/100\n",
      "\u001b[1m101/101\u001b[0m \u001b[32m━━━━━━━━━━━━━━━━━━━━\u001b[0m\u001b[37m\u001b[0m \u001b[1m0s\u001b[0m 913us/step - binary_accuracy: 0.6290 - loss: 0.6605\n",
      "Epoch 83/100\n",
      "\u001b[1m101/101\u001b[0m \u001b[32m━━━━━━━━━━━━━━━━━━━━\u001b[0m\u001b[37m\u001b[0m \u001b[1m0s\u001b[0m 1ms/step - binary_accuracy: 0.6110 - loss: 0.6686 \n",
      "Epoch 84/100\n",
      "\u001b[1m101/101\u001b[0m \u001b[32m━━━━━━━━━━━━━━━━━━━━\u001b[0m\u001b[37m\u001b[0m \u001b[1m0s\u001b[0m 970us/step - binary_accuracy: 0.6101 - loss: 0.6693\n",
      "Epoch 85/100\n",
      "\u001b[1m101/101\u001b[0m \u001b[32m━━━━━━━━━━━━━━━━━━━━\u001b[0m\u001b[37m\u001b[0m \u001b[1m0s\u001b[0m 963us/step - binary_accuracy: 0.6035 - loss: 0.6723\n",
      "Epoch 86/100\n",
      "\u001b[1m101/101\u001b[0m \u001b[32m━━━━━━━━━━━━━━━━━━━━\u001b[0m\u001b[37m\u001b[0m \u001b[1m0s\u001b[0m 1ms/step - binary_accuracy: 0.6137 - loss: 0.6676 \n",
      "Epoch 87/100\n",
      "\u001b[1m101/101\u001b[0m \u001b[32m━━━━━━━━━━━━━━━━━━━━\u001b[0m\u001b[37m\u001b[0m \u001b[1m0s\u001b[0m 907us/step - binary_accuracy: 0.6289 - loss: 0.6611\n",
      "Epoch 88/100\n",
      "\u001b[1m101/101\u001b[0m \u001b[32m━━━━━━━━━━━━━━━━━━━━\u001b[0m\u001b[37m\u001b[0m \u001b[1m0s\u001b[0m 976us/step - binary_accuracy: 0.6029 - loss: 0.6722\n",
      "Epoch 89/100\n",
      "\u001b[1m101/101\u001b[0m \u001b[32m━━━━━━━━━━━━━━━━━━━━\u001b[0m\u001b[37m\u001b[0m \u001b[1m0s\u001b[0m 920us/step - binary_accuracy: 0.6013 - loss: 0.6737\n",
      "Epoch 90/100\n",
      "\u001b[1m101/101\u001b[0m \u001b[32m━━━━━━━━━━━━━━━━━━━━\u001b[0m\u001b[37m\u001b[0m \u001b[1m0s\u001b[0m 919us/step - binary_accuracy: 0.5791 - loss: 0.6846\n",
      "Epoch 91/100\n",
      "\u001b[1m101/101\u001b[0m \u001b[32m━━━━━━━━━━━━━━━━━━━━\u001b[0m\u001b[37m\u001b[0m \u001b[1m0s\u001b[0m 1ms/step - binary_accuracy: 0.6152 - loss: 0.6665\n",
      "Epoch 92/100\n",
      "\u001b[1m101/101\u001b[0m \u001b[32m━━━━━━━━━━━━━━━━━━━━\u001b[0m\u001b[37m\u001b[0m \u001b[1m0s\u001b[0m 936us/step - binary_accuracy: 0.5940 - loss: 0.6769\n",
      "Epoch 93/100\n",
      "\u001b[1m101/101\u001b[0m \u001b[32m━━━━━━━━━━━━━━━━━━━━\u001b[0m\u001b[37m\u001b[0m \u001b[1m0s\u001b[0m 1ms/step - binary_accuracy: 0.5897 - loss: 0.6788\n",
      "Epoch 94/100\n",
      "\u001b[1m101/101\u001b[0m \u001b[32m━━━━━━━━━━━━━━━━━━━━\u001b[0m\u001b[37m\u001b[0m \u001b[1m0s\u001b[0m 959us/step - binary_accuracy: 0.6371 - loss: 0.6559\n",
      "Epoch 95/100\n",
      "\u001b[1m101/101\u001b[0m \u001b[32m━━━━━━━━━━━━━━━━━━━━\u001b[0m\u001b[37m\u001b[0m \u001b[1m0s\u001b[0m 1ms/step - binary_accuracy: 0.6146 - loss: 0.6667\n",
      "Epoch 96/100\n",
      "\u001b[1m101/101\u001b[0m \u001b[32m━━━━━━━━━━━━━━━━━━━━\u001b[0m\u001b[37m\u001b[0m \u001b[1m0s\u001b[0m 959us/step - binary_accuracy: 0.6191 - loss: 0.6656\n",
      "Epoch 97/100\n",
      "\u001b[1m101/101\u001b[0m \u001b[32m━━━━━━━━━━━━━━━━━━━━\u001b[0m\u001b[37m\u001b[0m \u001b[1m0s\u001b[0m 1ms/step - binary_accuracy: 0.6377 - loss: 0.6567 \n",
      "Epoch 98/100\n",
      "\u001b[1m101/101\u001b[0m \u001b[32m━━━━━━━━━━━━━━━━━━━━\u001b[0m\u001b[37m\u001b[0m \u001b[1m0s\u001b[0m 2ms/step - binary_accuracy: 0.6188 - loss: 0.6657\n",
      "Epoch 99/100\n",
      "\u001b[1m101/101\u001b[0m \u001b[32m━━━━━━━━━━━━━━━━━━━━\u001b[0m\u001b[37m\u001b[0m \u001b[1m0s\u001b[0m 2ms/step - binary_accuracy: 0.6238 - loss: 0.6638\n",
      "Epoch 100/100\n",
      "\u001b[1m101/101\u001b[0m \u001b[32m━━━━━━━━━━━━━━━━━━━━\u001b[0m\u001b[37m\u001b[0m \u001b[1m0s\u001b[0m 1ms/step - binary_accuracy: 0.6196 - loss: 0.6647\n"
     ]
    },
    {
     "data": {
      "text/plain": [
       "<keras.src.callbacks.history.History at 0x17c43cc4aa0>"
      ]
     },
     "execution_count": 52,
     "metadata": {},
     "output_type": "execute_result"
    }
   ],
   "source": [
    "classificador.compile(optimizer='adam', loss='binary_crossentropy', metrics=['binary_accuracy'])\n",
    "classificador.fit(previsores_treinamento, classe_treinamento, batch_size=10, epochs=100)"
   ]
  },
  {
   "cell_type": "code",
   "execution_count": 53,
   "metadata": {},
   "outputs": [
    {
     "name": "stdout",
     "output_type": "stream",
     "text": [
      "[array([[ 5.4950109e-03,  2.0184066e-02, -3.0539429e-02, -1.6835827e-02,\n",
      "         5.7292797e-02, -4.7852695e-02,  3.5125237e-02,  4.5461845e-02,\n",
      "        -2.4363894e-02, -2.3701997e-02, -2.9705836e-02],\n",
      "       [ 6.0904934e-03, -4.1255496e-02,  3.6340479e-02,  3.7471939e-02,\n",
      "        -2.1782922e-02, -4.7644246e-02, -1.5536724e-02,  5.0864577e-02,\n",
      "        -2.2668008e-02, -3.9841025e-03, -4.9421012e-02],\n",
      "       [ 5.0912764e-02,  8.2590207e-03, -3.1199828e-03, -5.8548423e-03,\n",
      "        -3.6272522e-02,  1.2958381e-02, -2.5908923e-02,  1.5392205e-02,\n",
      "         5.2914135e-03, -5.2936383e-02, -8.4409826e-03],\n",
      "       [-2.1251073e-02, -2.1500397e-02, -2.4725629e-02,  5.8624517e-02,\n",
      "        -1.8119408e-02, -4.0882051e-02,  5.4617524e-02, -1.6773865e-02,\n",
      "         3.6286113e-03,  4.1905842e-03,  3.5407607e-02],\n",
      "       [ 1.0452565e-02,  5.4975040e-03, -3.2534778e-02,  2.6077682e-02,\n",
      "        -2.8707851e-02, -1.5303433e-02, -9.1682505e-03, -3.6395378e-02,\n",
      "        -3.4332627e-03,  1.4698402e-02,  3.5260629e-02],\n",
      "       [-2.8777556e-02, -1.1534225e-02, -2.1609295e-02,  4.9165446e-02,\n",
      "         1.1094756e-02,  1.5779804e-02,  3.6127854e-02, -1.2763774e-03,\n",
      "        -4.2751346e-02, -2.0448541e-02,  1.1275522e-03],\n",
      "       [ 2.3477122e-02,  3.4697581e-02,  4.1457858e-02, -4.2275250e-02,\n",
      "        -7.3529673e-03,  4.5784488e-03, -3.2302253e-02,  2.8620258e-02,\n",
      "        -3.7552360e-02, -5.8124382e-03,  2.6058618e-02],\n",
      "       [ 5.7814948e-02,  4.2724658e-02,  3.6705587e-02, -5.4380130e-02,\n",
      "         3.9848365e-02, -3.9270770e-02,  3.4297228e-02, -1.3496344e-02,\n",
      "        -2.7382812e-02, -4.1097142e-03,  3.5423901e-02],\n",
      "       [           nan,            nan,            nan,            nan,\n",
      "                   nan,            nan,            nan,            nan,\n",
      "                   nan,            nan,            nan],\n",
      "       [-2.0611124e-02,  7.9013109e-03, -1.8020343e-02,  1.5533622e-02,\n",
      "         3.7323270e-02, -2.7092099e-02, -2.8446672e-02,  5.7661209e-02,\n",
      "         7.2645759e-03,  1.1784580e-02, -1.5934121e-02],\n",
      "       [ 2.0286767e-03, -3.6724247e-02, -1.3343550e-02,  4.3992281e-02,\n",
      "         3.0696522e-02, -1.2340508e-02, -2.1575360e-02, -3.9834302e-02,\n",
      "        -3.0665535e-02, -3.8013536e-02,  7.3502660e-03],\n",
      "       [ 2.8722661e-02, -1.0653149e-02, -4.1103553e-02,  1.8689243e-02,\n",
      "         5.0372053e-02, -2.8504618e-03, -1.9790398e-02, -2.6777292e-02,\n",
      "         1.7534195e-02,  1.6862819e-02, -4.8505343e-02],\n",
      "       [ 9.8749036e-03, -4.5625448e-02,  1.7177824e-02,  4.4023804e-02,\n",
      "        -1.8505724e-02,  3.8123753e-02,  4.8756573e-02,  2.3226610e-03,\n",
      "        -2.6478147e-02, -4.6794359e-02, -3.2072484e-02],\n",
      "       [ 4.0132115e-03,  2.9100243e-02, -3.0179843e-03,  1.5974073e-02,\n",
      "         1.3433611e-02, -3.6560185e-03,  5.2388396e-02,  3.4433194e-02,\n",
      "        -7.9996195e-03,  3.9376225e-03, -3.0426756e-03],\n",
      "       [ 5.7944629e-02, -3.1613398e-02, -2.9743850e-02, -1.6237624e-02,\n",
      "         2.9823720e-02, -2.7863313e-02,  2.9479353e-02, -2.1616649e-02,\n",
      "         3.8979966e-02, -5.0969310e-02,  1.9316319e-02],\n",
      "       [ 3.9691638e-02,  9.1377273e-03,  4.1919138e-02, -3.9332144e-02,\n",
      "         5.6626543e-02,  4.2257812e-02,  4.1743118e-02,  4.2367518e-02,\n",
      "        -2.3594992e-02, -1.7979611e-02,  1.2468547e-05],\n",
      "       [ 5.8753699e-02,  1.9949224e-02,  1.3835277e-02,  4.6551704e-02,\n",
      "         8.0836349e-04, -3.2559991e-02,  3.3568102e-03, -3.9677471e-02,\n",
      "        -1.7247105e-02, -4.2693835e-02,  1.0898303e-02],\n",
      "       [ 7.7081514e-03, -6.4881556e-03, -4.3667853e-05,  1.2522948e-04,\n",
      "         1.4816458e-02,  1.5065793e-02,  4.8049826e-02, -3.9223716e-02,\n",
      "        -1.0661585e-02,  9.4274255e-03, -2.3909820e-02],\n",
      "       [ 5.3694486e-03, -3.4009077e-02, -4.9808156e-02,  3.8373489e-02,\n",
      "        -2.9637085e-02, -1.9175459e-02,  5.3770032e-02, -3.0413294e-02,\n",
      "         2.9164582e-02,  2.5713513e-02, -2.9802216e-02]], dtype=float32), array([ 0.01144061,  0.        ,  0.        ,  0.00100562,  0.01031365,\n",
      "        0.        ,  0.01135221,  0.00935967, -0.00594948, -0.00435875,\n",
      "        0.        ], dtype=float32)]\n"
     ]
    }
   ],
   "source": [
    "pesos0 = classificador.layers[0].get_weights()\n",
    "print(pesos0)"
   ]
  },
  {
   "cell_type": "code",
   "execution_count": 54,
   "metadata": {},
   "outputs": [
    {
     "name": "stdout",
     "output_type": "stream",
     "text": [
      "\u001b[1m11/11\u001b[0m \u001b[32m━━━━━━━━━━━━━━━━━━━━\u001b[0m\u001b[37m\u001b[0m \u001b[1m0s\u001b[0m 4ms/step \n"
     ]
    }
   ],
   "source": [
    "previsoes = classificador.predict(previsores_teste)"
   ]
  },
  {
   "cell_type": "code",
   "execution_count": 55,
   "metadata": {},
   "outputs": [
    {
     "name": "stdout",
     "output_type": "stream",
     "text": [
      "\u001b[1m11/11\u001b[0m \u001b[32m━━━━━━━━━━━━━━━━━━━━\u001b[0m\u001b[37m\u001b[0m \u001b[1m0s\u001b[0m 1ms/step - binary_accuracy: 0.6386 - loss: 0.6551  \n"
     ]
    }
   ],
   "source": [
    "resultado = classificador.evaluate(previsores_teste, classe_teste)"
   ]
  }
 ],
 "metadata": {
  "kernelspec": {
   "display_name": "Python 3",
   "language": "python",
   "name": "python3"
  },
  "language_info": {
   "codemirror_mode": {
    "name": "ipython",
    "version": 3
   },
   "file_extension": ".py",
   "mimetype": "text/x-python",
   "name": "python",
   "nbconvert_exporter": "python",
   "pygments_lexer": "ipython3",
   "version": "3.12.3"
  }
 },
 "nbformat": 4,
 "nbformat_minor": 2
}
