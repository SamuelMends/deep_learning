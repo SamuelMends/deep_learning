{
 "cells": [
  {
   "cell_type": "code",
   "execution_count": 1,
   "metadata": {},
   "outputs": [],
   "source": [
    "#Importando nossas bibliotesas:\n",
    "from minisom import MiniSom\n",
    "import pandas as pd\n",
    "import numpy as np\n",
    "from sklearn.preprocessing import MinMaxScaler\n",
    "from pylab import pcolor, colorbar, plot"
   ]
  },
  {
   "cell_type": "code",
   "execution_count": 2,
   "metadata": {},
   "outputs": [],
   "source": [
    "#Definindo Data Set e variáveis:\n",
    "base = pd.read_csv('credit_data.csv')\n",
    "base = base.dropna()\n",
    "base.loc[base.age < 0, 'age'] = 40.92 #Definindo todas as idades negativas no Data Set como 40.92, pois essa é a média das idades."
   ]
  },
  {
   "cell_type": "code",
   "execution_count": 3,
   "metadata": {},
   "outputs": [],
   "source": [
    "X = base.iloc[:, 0:4].values\n",
    "y = base.iloc[:, 4].values"
   ]
  },
  {
   "cell_type": "code",
   "execution_count": 4,
   "metadata": {},
   "outputs": [],
   "source": [
    "normalizador = MinMaxScaler(feature_range=(0,1))\n",
    "X = normalizador.fit_transform(X)"
   ]
  },
  {
   "cell_type": "code",
   "execution_count": 5,
   "metadata": {},
   "outputs": [],
   "source": [
    "som = MiniSom(x = 15, y = 15, input_len = 4, random_seed = 0)\n",
    "som.random_weights_init(X) #Inicialização dos pesos\n",
    "som.train_random(data = X, num_iteration = 100) #Modelo de treinamento, interação equivale ao número de repetições."
   ]
  },
  {
   "cell_type": "code",
   "execution_count": 6,
   "metadata": {},
   "outputs": [
    {
     "data": {
      "text/plain": [
       "<matplotlib.colorbar.Colorbar at 0x186a7c13e00>"
      ]
     },
     "execution_count": 6,
     "metadata": {},
     "output_type": "execute_result"
    },
    {
     "data": {
      "image/png": "[encoded data removed]",
      "text/plain": [
       "<Figure size 640x480 with 2 Axes>"
      ]
     },
     "metadata": {},
     "output_type": "display_data"
    }
   ],
   "source": [
    "pcolor(som.distance_map().T)\n",
    "colorbar()"
   ]
  },
  {
   "cell_type": "code",
   "execution_count": 7,
   "metadata": {},
   "outputs": [],
   "source": [
    "markers = ['o', 's']\n",
    "colors = ['r', 'g']"
   ]
  },
  {
   "cell_type": "code",
   "execution_count": 8,
   "metadata": {},
   "outputs": [],
   "source": [
    "for i, x in enumerate(X):\n",
    "    #print(i)\n",
    "    #print(x)\n",
    "    #Descobrir coordenada:\n",
    "    w = som.winner(x)\n",
    "    #print(w)\n",
    "    plot(w[0] + 1 , w[1] + 1 , markers[y[i]],\n",
    "         markerfacecolor = 'None', markersize = 12,\n",
    "         markeredgecolor = colors[y[i]], markeredgewidth = 1,)\n",
    "\n",
    "    \n",
    "#Nosso for vai percorrer registro a registro na nossa base de dados, ele irá pegar qual é o neurônio vencedor de cada um desses registros e ele vai plotar no nosso gráfico (Se algum dos nossos neurônios vencedores escolher um neurônio amarelo ele é categorizado como um outlier)\n",
    "\n",
    "# \"i\" é igual ao ID de cada registro enquanto que \"x\" representa passa por todas as variáveis de cada linha.\n",
    "\n",
    "#O circulo representa os clientes que possuiram o crédito aprovado, verdes são o contrário."
   ]
  },
  {
   "cell_type": "code",
   "execution_count": null,
   "metadata": {},
   "outputs": [],
   "source": [
    "mapeamento = som.win_map(X) #Criando variável mapeamento que é um dicionário com noss winners.\n",
    "\n",
    "suspeitos = np.concatenate()"
   ]
  }
 ],
 "metadata": {
  "kernelspec": {
   "display_name": "Python 3",
   "language": "python",
   "name": "python3"
  },
  "language_info": {
   "codemirror_mode": {
    "name": "ipython",
    "version": 3
   },
   "file_extension": ".py",
   "mimetype": "text/x-python",
   "name": "python",
   "nbconvert_exporter": "python",
   "pygments_lexer": "ipython3",
   "version": "3.12.3"
  }
 },
 "nbformat": 4,
 "nbformat_minor": 2
}
