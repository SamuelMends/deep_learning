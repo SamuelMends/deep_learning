{
 "cells": [
  {
   "cell_type": "code",
   "execution_count": 1,
   "metadata": {},
   "outputs": [],
   "source": [
    "import pandas as pd\n",
    "from keras.models import Sequential\n",
    "from keras.layers import Dense"
   ]
  },
  {
   "cell_type": "code",
   "execution_count": 2,
   "metadata": {},
   "outputs": [],
   "source": [
    "base = pd.read_csv('autos.csv', encoding = 'ISO-8859-1')\n",
    "base = base.drop('dateCrawled', axis = 1)\n",
    "base = base.drop('dateCreated', axis = 1)\n",
    "base = base.drop('nrOfPictures', axis = 1)\n",
    "base = base.drop('postalCode', axis = 1)\n",
    "base = base.drop('lastSeen', axis = 1)\n",
    "base = base.drop('name', axis = 1)\n",
    "base = base.drop('seller', axis = 1)\n",
    "base = base.drop('offerType', axis = 1)"
   ]
  },
  {
   "cell_type": "code",
   "execution_count": 3,
   "metadata": {},
   "outputs": [],
   "source": [
    "valores = {'vehicleType': 'limousine', 'gearbox': 'manuell', \n",
    "           'model': 'golf', 'fuelType': 'benzin', \n",
    "           'notRepairedDamage': 'nein'}"
   ]
  },
  {
   "cell_type": "code",
   "execution_count": 4,
   "metadata": {},
   "outputs": [],
   "source": [
    "base = base.fillna(value = valores)"
   ]
  },
  {
   "cell_type": "code",
   "execution_count": 5,
   "metadata": {},
   "outputs": [],
   "source": [
    "previsores = base.iloc[:, 1:13].values\n",
    "preco_real = base.iloc[:, 0].values"
   ]
  },
  {
   "cell_type": "code",
   "execution_count": 6,
   "metadata": {},
   "outputs": [],
   "source": [
    "from sklearn.preprocessing import LabelEncoder, OneHotEncoder\n",
    "from sklearn.compose import ColumnTransformer\n",
    "labelencoder_previsores = LabelEncoder()\n",
    "previsores[:, 0] = labelencoder_previsores.fit_transform(previsores[:, 0])\n",
    "previsores[:, 1] = labelencoder_previsores.fit_transform(previsores[:, 1])\n",
    "previsores[:, 3] = labelencoder_previsores.fit_transform(previsores[:, 3])\n",
    "previsores[:, 5] = labelencoder_previsores.fit_transform(previsores[:, 5])\n",
    "previsores[:, 8] = labelencoder_previsores.fit_transform(previsores[:, 8])\n",
    "previsores[:, 9] = labelencoder_previsores.fit_transform(previsores[:, 9])\n",
    "previsores[:, 10] = labelencoder_previsores.fit_transform(previsores[:, 10])"
   ]
  },
  {
   "cell_type": "code",
   "execution_count": 7,
   "metadata": {},
   "outputs": [],
   "source": [
    "categorical_columns = [0, 1, 3, 5, 8, 9, 10]\n",
    "onehotencoder = ct = ColumnTransformer(\n",
    "    [('one_hot_encoder', OneHotEncoder(), categorical_columns)],\n",
    "    remainder='passthrough')\n",
    "data_transformed = ct.fit_transform(previsores).toarray()"
   ]
  }
 ],
 "metadata": {
  "kernelspec": {
   "display_name": "Python 3",
   "language": "python",
   "name": "python3"
  },
  "language_info": {
   "codemirror_mode": {
    "name": "ipython",
    "version": 3
   },
   "file_extension": ".py",
   "mimetype": "text/x-python",
   "name": "python",
   "nbconvert_exporter": "python",
   "pygments_lexer": "ipython3",
   "version": "3.12.3"
  }
 },
 "nbformat": 4,
 "nbformat_minor": 2
}
