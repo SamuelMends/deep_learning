{
 "cells": [
  {
   "cell_type": "code",
   "execution_count": null,
   "metadata": {},
   "outputs": [],
   "source": [
    "parametros = {\n",
    "    'batch_size': [10, 30],\n",
    "    'epochs': [50, 100],\n",
    "    'model__optimizer': ['adam', 'sgd'],\n",
    "    'model__loss': ['binary_crossentropy', 'hinge'],\n",
    "    'model__kernel_initializer': ['random_uniform', 'normal'],\n",
    "    'model__activation': ['relu', 'tanh'],\n",
    "    'model__neurons': [16, 8]\n",
    "}"
   ]
  },
  {
   "cell_type": "code",
   "execution_count": null,
   "metadata": {},
   "outputs": [],
   "source": [
    "parametros = {\n",
    "    'batch_size': [10],\n",
    "    'epochs': [100],\n",
    "    'model__optimizer': ['adam'],\n",
    "    'model__loss': ['binary_crossentropy'],\n",
    "    'model__kernel_initializer': ['random_uniform'],\n",
    "    'model__activation': ['relu']\n",
    "    'model__neurons': [16, 8]\n",
    "}"
   ]
  }
 ],
 "metadata": {
  "language_info": {
   "name": "python"
  }
 },
 "nbformat": 4,
 "nbformat_minor": 2
}
