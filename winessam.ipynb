{
 "cells": [
  {
   "cell_type": "code",
   "execution_count": 1,
   "metadata": {},
   "outputs": [],
   "source": [
    "#Importando nossas bibliotecas:\n",
    "from minisom import MiniSom\n",
    "import pandas as pd\n",
    "from sklearn.preprocessing import MinMaxScaler\n",
    "from pylab import pcolor, colorbar, plot\n",
    "import matplotlib.pyplot as plt"
   ]
  },
  {
   "cell_type": "code",
   "execution_count": 2,
   "metadata": {},
   "outputs": [],
   "source": [
    "#Definindo o Data Set e as variáveis\n",
    "base=pd.read_csv('wines.csv')\n",
    "X=base.iloc[:,1:14].values\n",
    "y=base.iloc[:,0].values"
   ]
  },
  {
   "cell_type": "code",
   "execution_count": 3,
   "metadata": {},
   "outputs": [],
   "source": [
    "#Precisamos normalizar nossos dados em uma escala de 0 a 1:\n",
    "normalizador=MinMaxScaler(feature_range=(0,1))\n",
    "x=normalizador.fit_transform(X)"
   ]
  },
  {
   "cell_type": "code",
   "execution_count": 4,
   "metadata": {},
   "outputs": [],
   "source": [
    "#Construindo nosso mapa auto-organizável:\n",
    "som= MiniSom(x=8, y=8, input_len=13, sigma=1.0, learning_rate=0.5, random_seed=2) # X equivale a quantas linhas nosso mapa vai ter // Y equivale a quantas colunas nosso mapa vai ter // input_len equivale a quantas entradas nosso programa vai ter // sigma equivale ao raio de espaço que irá capturar os neurônios próximos baseados no BMU (best matching unit) // learning_rate equivale a taxa de aprendizagem e é o que define como os valores pesos serão ajustados a cada rodada // random_seed executa a função de nos dar sempre o mesmo resultado de quanto executamos o programa\n",
    "som.random_weights_init(X) #Atribuindo pesos aleatórios a nossa variavel\n",
    "som.train_random(data=X,num_iteration=100)"
   ]
  },
  {
   "cell_type": "code",
   "execution_count": 5,
   "metadata": {},
   "outputs": [
    {
     "data": {
      "text/plain": [
       "array([[[1.24924538e+01, 1.64742518e+00, 2.30392171e+00, 1.86755666e+01,\n",
       "         9.64275455e+01, 2.38498283e+00, 2.44409314e+00, 3.75689289e-01,\n",
       "         1.95471285e+00, 4.28552253e+00, 1.22582201e+00, 2.68590545e+00,\n",
       "         8.69307502e+02],\n",
       "        [1.36325594e+01, 3.08704540e+00, 2.26024618e+00, 1.74798288e+01,\n",
       "         9.63885973e+01, 2.72459560e+00, 2.89554864e+00, 2.84310032e-01,\n",
       "         1.77765458e+00, 4.94864497e+00, 9.81666907e-01, 3.05012664e+00,\n",
       "         1.06704024e+03],\n",
       "        [1.28381548e+01, 1.47362757e+00, 2.26576552e+00, 1.72001563e+01,\n",
       "         9.11682329e+01, 2.16926021e+00, 1.08176328e+00, 5.27130526e-01,\n",
       "         1.28385808e+00, 5.18752077e+00, 8.33027036e-01, 1.86118817e+00,\n",
       "         7.03698547e+02],\n",
       "        [1.19886602e+01, 2.12026018e+00, 2.81211067e+00, 2.44324054e+01,\n",
       "         1.13461629e+02, 2.70497556e+00, 3.73732029e+00, 4.36946075e-01,\n",
       "         1.51648064e+00, 4.93238290e+00, 9.82716019e-01, 3.24688034e+00,\n",
       "         5.10293772e+02],\n",
       "        [1.32402167e+01, 1.77531061e+00, 2.36785357e+00, 1.86971730e+01,\n",
       "         9.94397417e+01, 2.26021224e+00, 2.36955888e+00, 4.16828095e-01,\n",
       "         1.76317840e+00, 3.55707914e+00, 1.23419296e+00, 2.85330904e+00,\n",
       "         8.58802093e+02],\n",
       "        [1.20357730e+01, 2.33578463e+00, 2.25747002e+00, 2.08010755e+01,\n",
       "         8.84259554e+01, 1.93920398e+00, 1.64179619e+00, 3.97802758e-01,\n",
       "         1.61071021e+00, 2.18199054e+00, 1.10642891e+00, 2.95189849e+00,\n",
       "         5.31773811e+02],\n",
       "        [1.26401581e+01, 2.14057108e+00, 2.38681616e+00, 2.14266940e+01,\n",
       "         9.68186692e+01, 2.32869750e+00, 2.04845373e+00, 3.42657082e-01,\n",
       "         1.43250607e+00, 2.91848255e+00, 1.04683150e+00, 3.11011835e+00,\n",
       "         4.72561794e+02],\n",
       "        [1.29285498e+01, 3.37386692e+00, 2.76556721e+00, 2.29597397e+01,\n",
       "         1.16148267e+02, 2.03465413e+00, 1.32190364e+00, 2.63377083e-01,\n",
       "         1.35445058e+00, 5.89248642e+00, 8.49670220e-01, 2.27891658e+00,\n",
       "         6.24140662e+02]],\n",
       "\n",
       "       [[1.37592290e+01, 1.79061352e+00, 2.38662895e+00, 1.58294690e+01,\n",
       "         1.00909419e+02, 2.88333359e+00, 3.16184967e+00, 2.98925564e-01,\n",
       "         2.35961474e+00, 5.94786665e+00, 1.09957530e+00, 2.92434557e+00,\n",
       "         1.12687955e+03],\n",
       "        [1.35163599e+01, 2.20767993e+00, 2.45434635e+00, 1.82139605e+01,\n",
       "         1.03342989e+02, 2.64458712e+00, 2.72844582e+00, 3.72702974e-01,\n",
       "         1.78586788e+00, 4.98386438e+00, 1.03911857e+00, 3.09779143e+00,\n",
       "         9.11186458e+02],\n",
       "        [1.33163923e+01, 1.98375189e+00, 2.30201926e+00, 1.76853319e+01,\n",
       "         1.12643163e+02, 2.20637413e+00, 1.90881320e+00, 3.47060686e-01,\n",
       "         1.42919485e+00, 4.47574100e+00, 9.41763531e-01, 2.33026169e+00,\n",
       "         7.46363236e+02],\n",
       "        [1.32955313e+01, 3.10851628e+00, 2.31985852e+00, 2.01884417e+01,\n",
       "         9.82239462e+01, 2.14926666e+00, 1.57556459e+00, 4.42167926e-01,\n",
       "         1.15763223e+00, 4.49085846e+00, 1.01063486e+00, 2.30411270e+00,\n",
       "         6.56618733e+02],\n",
       "        [1.23384255e+01, 1.86617587e+00, 2.49970866e+00, 2.38509466e+01,\n",
       "         9.04906740e+01, 2.06409180e+00, 2.03997547e+00, 4.89488618e-01,\n",
       "         1.57699638e+00, 3.29458691e+00, 1.06125882e+00, 2.50049887e+00,\n",
       "         5.21519793e+02],\n",
       "        [1.23282597e+01, 1.53354803e+00, 2.27850432e+00, 1.99213609e+01,\n",
       "         8.91300215e+01, 1.81173935e+00, 1.55659800e+00, 4.66377718e-01,\n",
       "         1.41172572e+00, 3.86233116e+00, 1.08979335e+00, 2.40380232e+00,\n",
       "         4.57192603e+02],\n",
       "        [1.31795147e+01, 2.84325110e+00, 2.40945167e+00, 1.97900876e+01,\n",
       "         9.30202124e+01, 1.98943524e+00, 1.44914961e+00, 4.35385582e-01,\n",
       "         1.57601874e+00, 5.96288093e+00, 8.76011717e-01, 2.25170728e+00,\n",
       "         5.10606946e+02],\n",
       "        [1.30100599e+01, 2.27538097e+00, 2.64904913e+00, 2.01752212e+01,\n",
       "         1.22563168e+02, 2.58604718e+00, 2.38660947e+00, 3.41092258e-01,\n",
       "         1.91278242e+00, 3.96061156e+00, 1.08752974e+00, 2.95070234e+00,\n",
       "         7.18354769e+02]],\n",
       "\n",
       "       [[1.32765873e+01, 2.03462299e+00, 2.40172079e+00, 1.75234391e+01,\n",
       "         1.01187519e+02, 2.57015479e+00, 2.50622727e+00, 3.33239965e-01,\n",
       "         1.72587236e+00, 5.59511823e+00, 9.96252662e-01, 2.99799951e+00,\n",
       "         9.98108562e+02],\n",
       "        [1.38800357e+01, 2.18343592e+00, 2.38489715e+00, 1.71386994e+01,\n",
       "         1.10605457e+02, 2.76800620e+00, 2.88742006e+00, 2.74782824e-01,\n",
       "         1.82178817e+00, 5.73733669e+00, 9.91183486e-01, 3.32722917e+00,\n",
       "         1.05618713e+03],\n",
       "        [1.34196536e+01, 2.06453930e+00, 2.44043879e+00, 1.96804122e+01,\n",
       "         1.06721649e+02, 2.34461800e+00, 2.10185632e+00, 4.06729403e-01,\n",
       "         1.64064514e+00, 5.33068434e+00, 9.36133869e-01, 2.61564793e+00,\n",
       "         8.32105606e+02],\n",
       "        [1.35398110e+01, 1.89062010e+00, 2.36339408e+00, 1.84676558e+01,\n",
       "         9.69239488e+01, 2.59480772e+00, 2.67734616e+00, 3.24761907e-01,\n",
       "         1.66812630e+00, 4.85333980e+00, 1.07675248e+00, 2.89550720e+00,\n",
       "         9.10083015e+02],\n",
       "        [1.26692880e+01, 1.92250520e+00, 2.15535980e+00, 1.78461397e+01,\n",
       "         9.37857457e+01, 2.12566622e+00, 2.09812859e+00, 3.51659119e-01,\n",
       "         1.51104794e+00, 3.98892768e+00, 1.15963671e+00, 2.49462272e+00,\n",
       "         5.69448351e+02],\n",
       "        [1.24646834e+01, 1.86183823e+00, 2.13944684e+00, 1.85591885e+01,\n",
       "         8.91626154e+01, 2.51352076e+00, 2.41275965e+00, 3.08785137e-01,\n",
       "         1.73369179e+00, 3.37376004e+00, 1.21448075e+00, 2.67264366e+00,\n",
       "         4.21880839e+02],\n",
       "        [1.25912232e+01, 3.06800700e+00, 2.35838372e+00, 2.04755597e+01,\n",
       "         8.68741564e+01, 2.29190885e+00, 2.13136369e+00, 3.64708654e-01,\n",
       "         1.54393203e+00, 3.15184348e+00, 9.76498145e-01, 2.81155373e+00,\n",
       "         6.04543469e+02],\n",
       "        [1.29232835e+01, 1.81241612e+00, 2.38794589e+00, 2.01736352e+01,\n",
       "         8.98440333e+01, 1.83743141e+00, 1.90007988e+00, 4.96382805e-01,\n",
       "         1.66344937e+00, 3.46832022e+00, 9.84638516e-01, 2.43404587e+00,\n",
       "         6.12821165e+02]],\n",
       "\n",
       "       [[1.35749551e+01, 1.99214477e+00, 2.28117834e+00, 1.73547572e+01,\n",
       "         1.07117732e+02, 2.62918465e+00, 2.61415347e+00, 2.93083669e-01,\n",
       "         1.69649663e+00, 4.96872101e+00, 1.08273734e+00, 3.17601036e+00,\n",
       "         7.88585448e+02],\n",
       "        [1.36252834e+01, 2.11476274e+00, 2.50637701e+00, 2.01932781e+01,\n",
       "         9.79157710e+01, 2.66424946e+00, 2.00499924e+00, 4.12107811e-01,\n",
       "         2.06525764e+00, 8.29516492e+00, 8.05352135e-01, 2.47247130e+00,\n",
       "         8.12997081e+02],\n",
       "        [1.33852098e+01, 2.17883639e+00, 2.48705041e+00, 1.93277114e+01,\n",
       "         9.97289848e+01, 2.47862659e+00, 2.46940019e+00, 3.70908733e-01,\n",
       "         1.61876314e+00, 5.48776790e+00, 1.14559379e+00, 2.69152006e+00,\n",
       "         9.64304350e+02],\n",
       "        [1.26905371e+01, 2.08964620e+00, 2.31654709e+00, 2.02852581e+01,\n",
       "         8.88337252e+01, 2.47817682e+00, 2.28869220e+00, 3.90670035e-01,\n",
       "         1.61487563e+00, 4.41607657e+00, 1.02609759e+00, 2.48804545e+00,\n",
       "         6.54583983e+02],\n",
       "        [1.25943160e+01, 2.05172574e+00, 2.42054261e+00, 1.96099511e+01,\n",
       "         9.55817693e+01, 2.13245793e+00, 1.83633072e+00, 4.46097456e-01,\n",
       "         1.41952191e+00, 4.37644459e+00, 1.04385797e+00, 2.32369045e+00,\n",
       "         6.76826451e+02],\n",
       "        [1.35380034e+01, 2.92616930e+00, 2.50546741e+00, 2.11426119e+01,\n",
       "         9.50413257e+01, 2.27529356e+00, 1.70245731e+00, 4.35145811e-01,\n",
       "         1.54317748e+00, 6.31201976e+00, 9.01481582e-01, 2.28922788e+00,\n",
       "         6.05221634e+02],\n",
       "        [1.37624354e+01, 1.79302468e+00, 2.32850511e+00, 1.65584600e+01,\n",
       "         9.92458009e+01, 2.62656502e+00, 2.65418326e+00, 2.88753483e-01,\n",
       "         1.82769266e+00, 4.31482101e+00, 1.09049703e+00, 3.46271594e+00,\n",
       "         9.89267046e+02],\n",
       "        [1.33905372e+01, 1.98733709e+00, 2.32784293e+00, 1.67741984e+01,\n",
       "         9.64312242e+01, 2.60204210e+00, 2.63964491e+00, 2.57109832e-01,\n",
       "         1.59902990e+00, 4.31961845e+00, 1.04496335e+00, 3.37799432e+00,\n",
       "         1.02906618e+03]],\n",
       "\n",
       "       [[1.29418518e+01, 3.21079447e+00, 2.34745374e+00, 2.03377987e+01,\n",
       "         1.09102575e+02, 1.76368086e+00, 1.71770586e+00, 3.37899265e-01,\n",
       "         1.31433587e+00, 7.56165810e+00, 7.77283005e-01, 1.85791985e+00,\n",
       "         5.41870663e+02],\n",
       "        [1.31345820e+01, 2.76065849e+00, 2.25451463e+00, 1.78950992e+01,\n",
       "         9.10803727e+01, 1.97296840e+00, 1.24889087e+00, 3.89440541e-01,\n",
       "         1.54969303e+00, 6.17552919e+00, 7.67899251e-01, 2.07093820e+00,\n",
       "         5.19765303e+02],\n",
       "        [1.32028468e+01, 2.02788622e+00, 2.34228259e+00, 1.93764826e+01,\n",
       "         9.72790569e+01, 2.17640748e+00, 2.28374512e+00, 4.39432333e-01,\n",
       "         1.80999897e+00, 3.67656912e+00, 1.19253787e+00, 2.61117455e+00,\n",
       "         8.00324065e+02],\n",
       "        [1.23190431e+01, 2.03076869e+00, 2.23204465e+00, 2.17442184e+01,\n",
       "         8.72275801e+01, 1.92783080e+00, 1.74015671e+00, 4.15189294e-01,\n",
       "         1.57319233e+00, 2.96760753e+00, 1.08178489e+00, 2.62017232e+00,\n",
       "         5.36584917e+02],\n",
       "        [1.25507579e+01, 1.81337976e+00, 2.30596605e+00, 1.92307153e+01,\n",
       "         8.88820619e+01, 2.01674295e+00, 1.31055195e+00, 5.18907546e-01,\n",
       "         1.43290229e+00, 4.47930447e+00, 9.47380181e-01, 1.95465329e+00,\n",
       "         6.16124535e+02],\n",
       "        [1.27831543e+01, 1.54349523e+00, 2.14980351e+00, 1.71159227e+01,\n",
       "         9.98370647e+01, 2.15271587e+00, 1.73751399e+00, 4.75019816e-01,\n",
       "         9.00080777e-01, 5.30324715e+00, 1.00511224e+00, 1.97912137e+00,\n",
       "         5.51905043e+02],\n",
       "        [1.30049162e+01, 2.17590608e+00, 2.48675166e+00, 1.76544512e+01,\n",
       "         1.03096979e+02, 2.81400567e+00, 2.66292971e+00, 2.44977278e-01,\n",
       "         1.75278367e+00, 4.44998445e+00, 1.00197144e+00, 3.31864214e+00,\n",
       "         8.85444091e+02],\n",
       "        [1.35488367e+01, 1.75490112e+00, 2.41471180e+00, 1.56413297e+01,\n",
       "         1.01793650e+02, 2.75201932e+00, 2.94092354e+00, 2.42908225e-01,\n",
       "         1.58926667e+00, 5.07717511e+00, 1.02166689e+00, 3.31297456e+00,\n",
       "         1.04801818e+03]],\n",
       "\n",
       "       [[1.20947612e+01, 1.63839290e+00, 2.15855062e+00, 1.85606506e+01,\n",
       "         9.34073793e+01, 2.48334402e+00, 2.16137561e+00, 3.05399429e-01,\n",
       "         1.62605081e+00, 2.81709135e+00, 1.16411614e+00, 2.96935272e+00,\n",
       "         3.33247612e+02],\n",
       "        [1.25292382e+01, 1.70987153e+00, 2.18029836e+00, 1.86506917e+01,\n",
       "         8.86444429e+01, 2.04710556e+00, 2.24630397e+00, 3.40463329e-01,\n",
       "         1.65561356e+00, 3.71024720e+00, 1.06828804e+00, 3.07930188e+00,\n",
       "         5.64483822e+02],\n",
       "        [1.25937419e+01, 1.37409739e+00, 2.06415280e+00, 1.97166394e+01,\n",
       "         8.54122923e+01, 2.20001693e+00, 2.12958337e+00, 3.06490521e-01,\n",
       "         1.25488563e+00, 4.58682198e+00, 1.13686307e+00, 3.21677725e+00,\n",
       "         6.08517333e+02],\n",
       "        [1.28163587e+01, 2.54157910e+00, 2.39558374e+00, 2.03708935e+01,\n",
       "         1.00228082e+02, 1.64134660e+00, 1.58788342e+00, 3.09685818e-01,\n",
       "         1.17882265e+00, 4.78812848e+00, 9.41097342e-01, 1.85345676e+00,\n",
       "         6.15541077e+02],\n",
       "        [1.27539377e+01, 2.25890611e+00, 2.30239884e+00, 1.98039014e+01,\n",
       "         8.86641050e+01, 1.57626323e+00, 9.18929134e-01, 4.60835318e-01,\n",
       "         9.30234518e-01, 8.33250170e+00, 7.43594352e-01, 1.83807380e+00,\n",
       "         5.39628932e+02],\n",
       "        [1.36629334e+01, 2.61144974e+00, 2.31495554e+00, 2.15411590e+01,\n",
       "         9.18417477e+01, 1.51567634e+00, 9.36725558e-01, 3.98938572e-01,\n",
       "         1.15557814e+00, 8.77331616e+00, 7.59169835e-01, 1.85359558e+00,\n",
       "         6.49997948e+02],\n",
       "        [1.27368864e+01, 1.65670548e+00, 2.33003460e+00, 2.12352272e+01,\n",
       "         8.47055215e+01, 1.91418682e+00, 2.03307228e+00, 4.07969742e-01,\n",
       "         1.59854687e+00, 3.31208285e+00, 9.54573100e-01, 2.80319710e+00,\n",
       "         6.25125874e+02],\n",
       "        [1.33220509e+01, 2.57420564e+00, 2.26734568e+00, 1.81733907e+01,\n",
       "         9.03066450e+01, 2.18805273e+00, 1.83314123e+00, 3.87199760e-01,\n",
       "         1.35940862e+00, 5.08973004e+00, 9.45099832e-01, 2.65387097e+00,\n",
       "         7.36159654e+02]],\n",
       "\n",
       "       [[1.32739717e+01, 1.67663700e+00, 2.49287183e+00, 2.07519783e+01,\n",
       "         9.35236182e+01, 2.61735837e+00, 1.68416846e+00, 4.30683910e-01,\n",
       "         2.06825250e+00, 8.84901022e+00, 7.96086203e-01, 2.25504665e+00,\n",
       "         6.25479101e+02],\n",
       "        [1.36968417e+01, 1.67770055e+00, 2.28819713e+00, 1.92646327e+01,\n",
       "         1.13055406e+02, 3.11551452e+00, 3.13377525e+00, 2.34422185e-01,\n",
       "         2.02165664e+00, 5.43435739e+00, 1.03094479e+00, 3.31952425e+00,\n",
       "         9.71139746e+02],\n",
       "        [1.37417876e+01, 1.63345728e+00, 2.59161334e+00, 1.86697166e+01,\n",
       "         1.20732659e+02, 2.89796178e+00, 2.84079215e+00, 4.04641810e-01,\n",
       "         1.56397690e+00, 5.58143988e+00, 1.18322798e+00, 3.02166805e+00,\n",
       "         1.20115388e+03],\n",
       "        [1.36019377e+01, 1.98097188e+00, 2.50602967e+00, 1.73433793e+01,\n",
       "         1.07914941e+02, 2.82203992e+00, 2.81662062e+00, 3.36449884e-01,\n",
       "         1.93894067e+00, 6.55944676e+00, 1.02018292e+00, 2.87187838e+00,\n",
       "         1.18482158e+03],\n",
       "        [1.32682081e+01, 2.07350022e+00, 2.39045646e+00, 1.86239019e+01,\n",
       "         1.02791247e+02, 2.44751070e+00, 2.60332294e+00, 4.26245392e-01,\n",
       "         1.89193123e+00, 4.85709086e+00, 1.04310227e+00, 3.06372244e+00,\n",
       "         9.62273123e+02],\n",
       "        [1.26171379e+01, 2.16751987e+00, 2.39937127e+00, 1.96551072e+01,\n",
       "         1.10512725e+02, 2.62723870e+00, 2.32705149e+00, 3.27767257e-01,\n",
       "         1.84489212e+00, 3.38798671e+00, 9.26291113e-01, 3.17590117e+00,\n",
       "         6.76027216e+02],\n",
       "        [1.27450070e+01, 1.10935973e+00, 2.19702712e+00, 1.77690286e+01,\n",
       "         1.01734335e+02, 2.34354774e+00, 2.16456577e+00, 2.96409543e-01,\n",
       "         1.72965711e+00, 3.04603667e+00, 1.19531728e+00, 3.12101154e+00,\n",
       "         5.38647885e+02],\n",
       "        [1.37205964e+01, 1.86540008e+00, 2.31640913e+00, 1.67882031e+01,\n",
       "         1.05888761e+02, 2.87592133e+00, 2.90951937e+00, 2.54435746e-01,\n",
       "         1.91273932e+00, 5.28625356e+00, 1.00881493e+00, 3.35102094e+00,\n",
       "         8.43540052e+02]],\n",
       "\n",
       "       [[1.21756158e+01, 3.25944776e+00, 2.01597792e+00, 1.87394759e+01,\n",
       "         8.84741002e+01, 2.10108402e+00, 1.79960206e+00, 3.55896253e-01,\n",
       "         1.88891379e+00, 1.73439931e+00, 9.32053639e-01, 3.07126972e+00,\n",
       "         6.02743864e+02],\n",
       "        [1.25895596e+01, 2.02402929e+00, 2.21248027e+00, 1.98560383e+01,\n",
       "         9.14486566e+01, 2.71514360e+00, 2.79793187e+00, 3.32615196e-01,\n",
       "         1.52667708e+00, 3.71396009e+00, 9.07873758e-01, 3.25408506e+00,\n",
       "         5.83386314e+02],\n",
       "        [1.36689830e+01, 2.12459578e+00, 2.58578244e+00, 1.90239400e+01,\n",
       "         1.03453608e+02, 2.50208303e+00, 2.40683511e+00, 3.36154472e-01,\n",
       "         1.59632689e+00, 5.82415101e+00, 1.03973160e+00, 2.65887350e+00,\n",
       "         1.09592562e+03],\n",
       "        [1.38994874e+01, 1.72550237e+00, 2.46814193e+00, 1.72594623e+01,\n",
       "         1.03533655e+02, 2.83269370e+00, 3.04349465e+00, 2.76826298e-01,\n",
       "         1.96403940e+00, 6.14222804e+00, 1.06199279e+00, 3.09305690e+00,\n",
       "         1.29215772e+03],\n",
       "        [1.40173617e+01, 1.82720482e+00, 2.48411767e+00, 1.69814657e+01,\n",
       "         1.09958559e+02, 3.16969634e+00, 3.29267769e+00, 2.95008061e-01,\n",
       "         2.00402536e+00, 6.91998641e+00, 1.10227688e+00, 3.02716696e+00,\n",
       "         1.46338147e+03],\n",
       "        [1.32849707e+01, 2.44291745e+00, 2.36499301e+00, 1.93451659e+01,\n",
       "         1.22856113e+02, 2.44830402e+00, 2.07323393e+00, 3.45610758e-01,\n",
       "         2.29725551e+00, 5.59983124e+00, 9.93095452e-01, 2.37257923e+00,\n",
       "         1.03282117e+03],\n",
       "        [1.20161531e+01, 9.89000255e-01, 2.29364819e+00, 1.93935283e+01,\n",
       "         1.00102428e+02, 2.54499952e+00, 2.27485770e+00, 3.76056530e-01,\n",
       "         1.96252698e+00, 3.47218523e+00, 1.11127875e+00, 2.53003025e+00,\n",
       "         5.66061365e+02],\n",
       "        [1.24637263e+01, 1.32630801e+00, 1.96821137e+00, 1.89761068e+01,\n",
       "         8.25393399e+01, 2.15420130e+00, 2.07831346e+00, 3.41763088e-01,\n",
       "         1.68479140e+00, 3.56892754e+00, 1.02898510e+00, 3.04413601e+00,\n",
       "         5.09914788e+02]]])"
      ]
     },
     "execution_count": 5,
     "metadata": {},
     "output_type": "execute_result"
    }
   ],
   "source": [
    "som._weights #abaixo podemos visualizar 8 blocos de vetores e cada um contendo 13 pesos diferentes:"
   ]
  },
  {
   "cell_type": "code",
   "execution_count": 6,
   "metadata": {},
   "outputs": [
    {
     "data": {
      "text/plain": [
       "array([[160.8739626 , 353.30758464,  61.59681957, 211.24294881,\n",
       "        149.97199294, 196.50648935, 251.40294532, 100.5978117 ],\n",
       "       [411.95869429, 199.01090826,  47.78785785,  81.08673703,\n",
       "        205.7152621 , 268.06980597, 215.82925146,  34.53950944],\n",
       "       [284.52621832, 340.61553036, 122.47396287, 199.58166009,\n",
       "        159.20578052, 302.51769899, 130.40317747, 121.96813153],\n",
       "       [ 83.17842689, 109.03673325, 251.62193871,  88.90927532,\n",
       "         69.13949921, 126.05014994, 276.17526189, 315.82880157],\n",
       "       [181.16289703, 207.13626713,  98.35877912, 192.36724821,\n",
       "        119.37039407, 173.82793422, 174.18728466, 333.68647022],\n",
       "       [389.04599348, 165.71640122, 127.6811237 , 114.44756337,\n",
       "        189.06984003,  90.49777817, 114.2055625 ,  63.44956211],\n",
       "       [109.17462893, 256.00862276, 484.12032093, 468.82797394,\n",
       "        249.00948618,  58.42276292, 186.00379226, 133.4486464 ],\n",
       "       [131.16287528, 147.24997678, 380.93136411, 576.13303876,\n",
       "        746.52852157, 316.10635558, 160.26707686, 219.07350172]])"
      ]
     },
     "execution_count": 6,
     "metadata": {},
     "output_type": "execute_result"
    }
   ],
   "source": [
    "som._activation_map #Podemos ver 7 linhas com 8 volumes, e aqui podemos ver os valores do mapa auto organizavel:"
   ]
  },
  {
   "cell_type": "code",
   "execution_count": 7,
   "metadata": {},
   "outputs": [],
   "source": [
    "q=som.activation_response(X) #Criando a variavel \"q\" para receber \"x\" usando o act_resp para transformar X em uma matriz 8x8, assim como conseguimos visualizar quantas vezes cada um dos neurônios foi selecionado como BMU"
   ]
  },
  {
   "cell_type": "code",
   "execution_count": 8,
   "metadata": {},
   "outputs": [
    {
     "data": {
      "text/plain": [
       "<matplotlib.colorbar.Colorbar at 0x214d8d13bc0>"
      ]
     },
     "execution_count": 8,
     "metadata": {},
     "output_type": "execute_result"
    },
    {
     "data": {
      "image/png": "[encoded data removed]",
      "text/plain": [
       "<Figure size 640x480 with 2 Axes>"
      ]
     },
     "metadata": {},
     "output_type": "display_data"
    }
   ],
   "source": [
    "pcolor(som.distance_map().T) #Irá nos retornar uma matriz com os valores de distância // Além disso essa função irá calcular o valor MID (Mean Inter Neuron Distance) ou seja ira calcular a média da distância de cada neurônio em relação aos seus vizinhos // Colocamos o \".T\" pois ele irá retornar a matriz transposta. (O que era coluna vira linha e o que era linha vira coluna)\n",
    "colorbar()"
   ]
  },
  {
   "cell_type": "code",
   "execution_count": 9,
   "metadata": {},
   "outputs": [],
   "source": [
    "#O Color Bar acima indica que, quanto mais escuro for o neurônio (média próxima de 0), maior é a semelhança dele com seus vizinhos. E quanto mais claro ele for (mais próximo de 1), mais diferente ele é dos seus vizinhos."
   ]
  },
  {
   "cell_type": "code",
   "execution_count": 10,
   "metadata": {},
   "outputs": [],
   "source": [
    "w=som.winner(X[2]) #Ira nos retornar neurônio ganhador dentro de cada um dos registros ou o BMU (em suma o melhor neurônio)\n",
    "markers=['o','s','D'] #Criando uma lista com valores aleatórios\n",
    "color=['r','g','b'] #Criando uma lista de cores sendo R=Red,G=green,B=blue"
   ]
  },
  {
   "cell_type": "code",
   "execution_count": 11,
   "metadata": {},
   "outputs": [],
   "source": [
    "#y[y==1]=0 #Se o Y for igual a 1, ele será atribuido a 0\n",
    "#y[y==2]=1 #Se o Y for igual a 2, ele será atribuido a 1\n",
    "#y[y==3]=2 #Se o Y for igual a 3, ele será atribuido a 2"
   ]
  },
  {
   "cell_type": "code",
   "execution_count": 12,
   "metadata": {},
   "outputs": [
    {
     "data": {
      "image/png": "[encoded data removed]",
      "text/plain": [
       "<Figure size 640x480 with 1 Axes>"
      ]
     },
     "metadata": {},
     "output_type": "display_data"
    }
   ],
   "source": [
    "# Itera sobre os dados 'x' usando o índice 'i'\n",
    "for i, x in enumerate(X):\n",
    "    w = som.winner(x)\n",
    "    plot(w[0] + 0.5, w[1] + 0.5, markers[y[i]-1], # como y contém valores 1, 2, e 3, precisamos substrair 1 para corresponder aos índices 0, 1 e 2\n",
    "         markerfacecolor='None', markersize=10,\n",
    "         markeredgecolor=color[y[i]-1], markeredgewidth=2)"
   ]
  }
 ],
 "metadata": {
  "kernelspec": {
   "display_name": "Python 3",
   "language": "python",
   "name": "python3"
  },
  "language_info": {
   "codemirror_mode": {
    "name": "ipython",
    "version": 3
   },
   "file_extension": ".py",
   "mimetype": "text/x-python",
   "name": "python",
   "nbconvert_exporter": "python",
   "pygments_lexer": "ipython3",
   "version": "3.12.3"
  }
 },
 "nbformat": 4,
 "nbformat_minor": 2
}
