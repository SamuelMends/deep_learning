{
 "cells": [
  {
   "cell_type": "code",
   "execution_count": 14,
   "metadata": {},
   "outputs": [],
   "source": [
    "#Importando nossas bibliotecas:\n",
    "from minisom import MiniSom\n",
    "import pandas as pd\n",
    "from sklearn.preprocessing import MinMaxScaler\n",
    "from pylab import pcolor, colorbar"
   ]
  },
  {
   "cell_type": "code",
   "execution_count": 5,
   "metadata": {},
   "outputs": [],
   "source": [
    "#Definindo o Data Set e as variáveis\n",
    "base=pd.read_csv('wines.csv')\n",
    "x=base.iloc[:,1:14].values\n",
    "y=base.iloc[:,0].values"
   ]
  },
  {
   "cell_type": "code",
   "execution_count": 7,
   "metadata": {},
   "outputs": [],
   "source": [
    "#Precisamos normalizar nossos dados em uma escala de 0 a 1:\n",
    "normalizador=MinMaxScaler(feature_range=(0,1))\n",
    "x=normalizador.fit_transform(x)"
   ]
  },
  {
   "cell_type": "code",
   "execution_count": 10,
   "metadata": {},
   "outputs": [],
   "source": [
    "#Construindo nosso mapa auto-organizável:\n",
    "som= MiniSom(x=8, y=8, input_len=13, sigma=1.0, learning_rate=0.5, random_seed=2) # X equivale a quantas linhas nosso mapa vai ter // Y equivale a quantas colunas nosso mapa vai ter // input_len equivale a quantas entradas nosso programa vai ter // sigma equivale ao raio de espaço que irá capturar os neurônios próximos baseados no BMU (best matching unit) // learning_rate equivale a taxa de aprendizagem e é o que define como os valores pesos serão ajustados a cada rodada // random_seed executa a função de nos dar sempre o mesmo resultado de quanto executamos o programa\n",
    "som.random_weights_init(x) #Atribuindo pesos aleatórios a nossa variavel\n",
    "som.train_random(data=x,num_iteration=100)"
   ]
  },
  {
   "cell_type": "code",
   "execution_count": 11,
   "metadata": {},
   "outputs": [
    {
     "data": {
      "text/plain": [
       "array([[[0.41619617, 0.39449386, 0.50685798, 0.4422608 , 0.28651455,\n",
       "         0.62779354, 0.50350414, 0.5263484 , 0.54477405, 0.19242564,\n",
       "         0.67435595, 0.63823686, 0.28429463],\n",
       "        [0.72914786, 0.57451979, 0.52076754, 0.31312334, 0.38252807,\n",
       "         0.62951827, 0.53988429, 0.23959452, 0.4316248 , 0.29844888,\n",
       "         0.37657397, 0.72298876, 0.47053241],\n",
       "        [0.53371796, 0.32082308, 0.51228125, 0.37102385, 0.25630737,\n",
       "         0.44474728, 0.24429873, 0.66662266, 0.3169272 , 0.33613626,\n",
       "         0.26874899, 0.34012126, 0.33540481],\n",
       "        [0.28051343, 0.34827867, 0.83688038, 0.7920189 , 0.41270368,\n",
       "         0.60188459, 0.75799137, 0.68549201, 0.42792331, 0.3603494 ,\n",
       "         0.35878113, 0.70381793, 0.17784128],\n",
       "        [0.58224813, 0.24425604, 0.54544019, 0.43512895, 0.31209432,\n",
       "         0.43000405, 0.42551836, 0.58164702, 0.43839386, 0.20401329,\n",
       "         0.59252411, 0.53116227, 0.40113876],\n",
       "        [0.2678605 , 0.33046249, 0.48202195, 0.54613877, 0.20415451,\n",
       "         0.33223401, 0.27995379, 0.5101902 , 0.37654356, 0.06484551,\n",
       "         0.54682809, 0.55658698, 0.18773945],\n",
       "        [0.34418588, 0.2921797 , 0.60498227, 0.56612571, 0.29972628,\n",
       "         0.48563813, 0.35881861, 0.44801451, 0.30788197, 0.13528876,\n",
       "         0.39906956, 0.67376594, 0.14735469],\n",
       "        [0.59846414, 0.65176846, 0.79144405, 0.69276934, 0.45821521,\n",
       "         0.40052856, 0.21413843, 0.32783828, 0.27421571, 0.5168789 ,\n",
       "         0.2410558 , 0.32417869, 0.26267489]],\n",
       "\n",
       "       [[0.82465419, 0.20228   , 0.56908035, 0.22357259, 0.37323884,\n",
       "         0.80473754, 0.69017664, 0.357182  , 0.5608355 , 0.48595884,\n",
       "         0.5041036 , 0.62455205, 0.75147451],\n",
       "        [0.68747546, 0.32602742, 0.54994139, 0.35006807, 0.3300994 ,\n",
       "         0.56759352, 0.52133542, 0.39688756, 0.44652398, 0.33794432,\n",
       "         0.43061852, 0.68592346, 0.54209022],\n",
       "        [0.60267622, 0.3561988 , 0.57399199, 0.49815709, 0.29422536,\n",
       "         0.36206951, 0.36672658, 0.38859913, 0.30618818, 0.3556358 ,\n",
       "         0.31098592, 0.38298209, 0.40173807],\n",
       "        [0.49873998, 0.61307091, 0.6003215 , 0.5939424 , 0.23044643,\n",
       "         0.33435184, 0.25990123, 0.7910449 , 0.3208548 , 0.3027051 ,\n",
       "         0.33011416, 0.3287319 , 0.26555948],\n",
       "        [0.28482706, 0.26647427, 0.62270477, 0.66333765, 0.20816083,\n",
       "         0.34125318, 0.31880486, 0.67371033, 0.33861641, 0.1588758 ,\n",
       "         0.50801803, 0.46703229, 0.21186613],\n",
       "        [0.26986045, 0.14049283, 0.60597528, 0.62443637, 0.19757075,\n",
       "         0.31021457, 0.26871479, 0.56511566, 0.30004146, 0.12000537,\n",
       "         0.66942139, 0.50025999, 0.17491883],\n",
       "        [0.46806884, 0.35448931, 0.60396645, 0.55239831, 0.24802718,\n",
       "         0.3397089 , 0.24788443, 0.58776921, 0.34534674, 0.31419195,\n",
       "         0.44793531, 0.38404184, 0.18280668],\n",
       "        [0.50970188, 0.30656217, 0.7782086 , 0.56296016, 0.44946648,\n",
       "         0.52476865, 0.43941362, 0.56498463, 0.4350758 , 0.2182215 ,\n",
       "         0.47949052, 0.58119753, 0.29986008]],\n",
       "\n",
       "       [[0.64120308, 0.20964677, 0.52066916, 0.33027773, 0.30041738,\n",
       "         0.52319142, 0.43929705, 0.36273695, 0.3652796 , 0.35301612,\n",
       "         0.460148  , 0.51349355, 0.62557607],\n",
       "        [0.76783504, 0.20916253, 0.55685855, 0.3275191 , 0.32034034,\n",
       "         0.58602374, 0.54459116, 0.23061014, 0.49968757, 0.38080811,\n",
       "         0.52635633, 0.69157298, 0.76104766],\n",
       "        [0.67121773, 0.20981535, 0.59765362, 0.39060332, 0.34306439,\n",
       "         0.55930227, 0.50132057, 0.36698768, 0.43765427, 0.40843729,\n",
       "         0.46007191, 0.54638984, 0.62448673],\n",
       "        [0.61085346, 0.29231131, 0.63970266, 0.40191309, 0.31211311,\n",
       "         0.56376628, 0.50778621, 0.47797653, 0.37893734, 0.36027529,\n",
       "         0.43878431, 0.53496552, 0.55020497],\n",
       "        [0.28909013, 0.25519389, 0.44244343, 0.40640174, 0.30395592,\n",
       "         0.25765778, 0.27056944, 0.48137449, 0.2739077 , 0.19392276,\n",
       "         0.50551801, 0.38239214, 0.24057538],\n",
       "        [0.33562521, 0.21026973, 0.52261534, 0.58807269, 0.17341417,\n",
       "         0.41940285, 0.33000298, 0.44638522, 0.2958561 , 0.09384908,\n",
       "         0.52086366, 0.57429887, 0.17625664],\n",
       "        [0.3731612 , 0.38089216, 0.55984037, 0.52378719, 0.19763839,\n",
       "         0.38942923, 0.34115343, 0.51688206, 0.34524867, 0.15229283,\n",
       "         0.43420776, 0.5641952 , 0.26607429],\n",
       "        [0.39329841, 0.18092104, 0.53630263, 0.50256425, 0.16920839,\n",
       "         0.22710108, 0.26881072, 0.71501116, 0.38484966, 0.16540269,\n",
       "         0.4393446 , 0.42816115, 0.19454335]],\n",
       "\n",
       "       [[0.67017273, 0.13657948, 0.39161021, 0.33617649, 0.28263463,\n",
       "         0.46454389, 0.40454708, 0.31157628, 0.22692777, 0.25195529,\n",
       "         0.56873253, 0.50680025, 0.42578744],\n",
       "        [0.71048922, 0.18858097, 0.59108444, 0.39312055, 0.32259803,\n",
       "         0.59252135, 0.49792722, 0.33833774, 0.45572951, 0.43722839,\n",
       "         0.4776289 , 0.5473095 , 0.60338979],\n",
       "        [0.66723643, 0.22071893, 0.65376755, 0.43898816, 0.38249563,\n",
       "         0.65957653, 0.58015078, 0.29141308, 0.57104539, 0.39965285,\n",
       "         0.49199204, 0.60690036, 0.64644637],\n",
       "        [0.63632753, 0.28565871, 0.62612567, 0.44572002, 0.32461065,\n",
       "         0.61313452, 0.4817469 , 0.41951477, 0.40047684, 0.41523701,\n",
       "         0.43038444, 0.49094046, 0.49258073],\n",
       "        [0.64316629, 0.30810624, 0.67618185, 0.59786991, 0.35080947,\n",
       "         0.33322294, 0.24769895, 0.47148971, 0.35490776, 0.50432519,\n",
       "         0.31403249, 0.33968606, 0.39713053],\n",
       "        [0.70395266, 0.45861172, 0.64945401, 0.58008984, 0.29187661,\n",
       "         0.42077209, 0.21601337, 0.66908905, 0.29335639, 0.48460853,\n",
       "         0.27232275, 0.33199631, 0.28230425],\n",
       "        [0.67246327, 0.20100466, 0.49521611, 0.2954311 , 0.30381953,\n",
       "         0.55978157, 0.46838585, 0.27119299, 0.4178823 , 0.2714967 ,\n",
       "         0.46989263, 0.82551949, 0.50715429],\n",
       "        [0.51985944, 0.18690234, 0.61515908, 0.40080468, 0.27542972,\n",
       "         0.48834149, 0.42959137, 0.32573924, 0.35932441, 0.21739222,\n",
       "         0.49467381, 0.80238246, 0.44983867]],\n",
       "\n",
       "       [[0.58935754, 0.46700143, 0.49416376, 0.49121338, 0.40978099,\n",
       "         0.26475155, 0.29188672, 0.37024959, 0.25180773, 0.56206988,\n",
       "         0.23314588, 0.18825328, 0.26004637],\n",
       "        [0.72889297, 0.31848849, 0.50631585, 0.36724523, 0.28019439,\n",
       "         0.51048688, 0.41620466, 0.41315301, 0.43776241, 0.44566893,\n",
       "         0.39504947, 0.45457479, 0.39585868],\n",
       "        [0.75053719, 0.18182045, 0.5307079 , 0.3564452 , 0.31618293,\n",
       "         0.64123074, 0.56388727, 0.31869824, 0.50834598, 0.34415446,\n",
       "         0.52634648, 0.59142619, 0.5003133 ],\n",
       "        [0.61984067, 0.16709827, 0.53777627, 0.50242084, 0.25552702,\n",
       "         0.57932848, 0.48112677, 0.27141212, 0.45367003, 0.24397741,\n",
       "         0.53933419, 0.64993787, 0.3098869 ],\n",
       "        [0.47070898, 0.11263927, 0.50516702, 0.37895344, 0.21018691,\n",
       "         0.42490854, 0.17132679, 0.74846516, 0.27856547, 0.32801591,\n",
       "         0.32520442, 0.21612924, 0.29110744],\n",
       "        [0.43051002, 0.09638567, 0.34219809, 0.2576888 , 0.31750748,\n",
       "         0.38854045, 0.19179208, 0.67988793, 0.05208171, 0.25511523,\n",
       "         0.45837885, 0.1857808 , 0.19949186],\n",
       "        [0.5307873 , 0.46254982, 0.64594106, 0.38588018, 0.34886443,\n",
       "         0.50342077, 0.43204374, 0.2903022 , 0.42732115, 0.26412582,\n",
       "         0.46185297, 0.76692154, 0.3764293 ],\n",
       "        [0.64966002, 0.20954554, 0.71158217, 0.39833042, 0.41374932,\n",
       "         0.53350533, 0.48589608, 0.34332806, 0.36314994, 0.25919139,\n",
       "         0.52383606, 0.646302  , 0.52064233]],\n",
       "\n",
       "       [[0.36763515, 0.11409883, 0.3287641 , 0.35975354, 0.32305734,\n",
       "         0.46383124, 0.38996394, 0.41641984, 0.57899189, 0.18305967,\n",
       "         0.38389868, 0.59168448, 0.16847824],\n",
       "        [0.47695614, 0.18082949, 0.40645682, 0.35154414, 0.22533005,\n",
       "         0.46023537, 0.47870387, 0.29748655, 0.51651946, 0.27220511,\n",
       "         0.50096894, 0.64901012, 0.33178965],\n",
       "        [0.44534876, 0.10699137, 0.41257815, 0.40320946, 0.28324904,\n",
       "         0.69933052, 0.51959298, 0.18689819, 0.48907762, 0.26673546,\n",
       "         0.50691482, 0.62880612, 0.31577   ],\n",
       "        [0.49199109, 0.27640253, 0.54434437, 0.45627829, 0.4219427 ,\n",
       "         0.36372019, 0.32999783, 0.19142914, 0.37710429, 0.27398763,\n",
       "         0.39186333, 0.36281032, 0.26360739],\n",
       "        [0.4778838 , 0.30136122, 0.49586925, 0.45404516, 0.20146531,\n",
       "         0.20271616, 0.09582018, 0.60909404, 0.12920177, 0.66738451,\n",
       "         0.13903519, 0.19141252, 0.16383458],\n",
       "        [0.67548132, 0.33224578, 0.48638795, 0.53367089, 0.2384709 ,\n",
       "         0.19206222, 0.11491951, 0.53479142, 0.19129454, 0.60569146,\n",
       "         0.24992952, 0.19832896, 0.23645445],\n",
       "        [0.4987861 , 0.1657051 , 0.45679173, 0.53474677, 0.19805379,\n",
       "         0.28381215, 0.34407431, 0.47244644, 0.35011772, 0.19889935,\n",
       "         0.4107979 , 0.50974607, 0.16690401],\n",
       "        [0.65619255, 0.39034659, 0.46514085, 0.39080972, 0.27599797,\n",
       "         0.40050987, 0.25416936, 0.59516536, 0.28475446, 0.36750828,\n",
       "         0.34027129, 0.42165093, 0.30084114]],\n",
       "\n",
       "       [[0.60740995, 0.18669676, 0.59848355, 0.48856398, 0.22907085,\n",
       "         0.5650194 , 0.27608281, 0.56775975, 0.63618008, 0.76545313,\n",
       "         0.19790735, 0.30241878, 0.32631505],\n",
       "        [0.5644793 , 0.19151769, 0.40218353, 0.27426091, 0.39378301,\n",
       "         0.6229811 , 0.56377423, 0.17901735, 0.66336589, 0.348936  ,\n",
       "         0.4746908 , 0.65514184, 0.47268315],\n",
       "        [0.49858573, 0.14982768, 0.48157641, 0.47618557, 0.70398742,\n",
       "         0.59022725, 0.45208284, 0.29657173, 0.60462556, 0.23240015,\n",
       "         0.59650584, 0.64118337, 0.48139528],\n",
       "        [0.56137283, 0.28188037, 0.51795397, 0.44276476, 0.57818459,\n",
       "         0.38439041, 0.25161845, 0.55406358, 0.45978223, 0.49210912,\n",
       "         0.28616252, 0.34771135, 0.44018441],\n",
       "        [0.45462689, 0.32093084, 0.52540705, 0.54919196, 0.29726923,\n",
       "         0.3315698 , 0.36668207, 0.86441437, 0.35038662, 0.17795674,\n",
       "         0.35923031, 0.70756607, 0.17200613],\n",
       "        [0.38912345, 0.25087627, 0.52536279, 0.47649372, 0.29386981,\n",
       "         0.51715692, 0.38582972, 0.36552922, 0.3133323 , 0.15896819,\n",
       "         0.37152507, 0.70769801, 0.13873346],\n",
       "        [0.4199752 , 0.08469878, 0.3683018 , 0.36068087, 0.22436364,\n",
       "         0.47961052, 0.41298003, 0.28808457, 0.35610523, 0.21203243,\n",
       "         0.57913599, 0.65346548, 0.15351073],\n",
       "        [0.72239965, 0.17601154, 0.48056593, 0.29275234, 0.48643433,\n",
       "         0.66880067, 0.56534779, 0.24423676, 0.50841526, 0.38054292,\n",
       "         0.41280954, 0.80323246, 0.45868282]],\n",
       "\n",
       "       [[0.28827245, 0.48191476, 0.35346437, 0.39386684, 0.20011206,\n",
       "         0.39296285, 0.32045904, 0.39512254, 0.49854768, 0.060534  ,\n",
       "         0.39595441, 0.64960668, 0.23743184],\n",
       "        [0.29853763, 0.28396696, 0.44344323, 0.41188062, 0.25362289,\n",
       "         0.58259033, 0.46281839, 0.27319108, 0.42990586, 0.16819134,\n",
       "         0.45114626, 0.68464999, 0.13819735],\n",
       "        [0.67810151, 0.47270192, 0.62645094, 0.56358741, 0.41941277,\n",
       "         0.45287029, 0.25098444, 0.57801815, 0.44912462, 0.48770819,\n",
       "         0.28831501, 0.34356914, 0.31554144],\n",
       "        [0.76995424, 0.2599622 , 0.65738162, 0.37390563, 0.57368321,\n",
       "         0.57190291, 0.47038564, 0.35920395, 0.32608743, 0.32295408,\n",
       "         0.48534931, 0.78611731, 0.70482466],\n",
       "        [0.74626274, 0.21716458, 0.70783439, 0.38673508, 0.5397477 ,\n",
       "         0.67299422, 0.52360779, 0.50400353, 0.38995117, 0.40430413,\n",
       "         0.53692382, 0.60805157, 0.74517824],\n",
       "        [0.61992371, 0.47862834, 0.60243126, 0.5681024 , 0.37234055,\n",
       "         0.36831451, 0.21259788, 0.52159642, 0.35086661, 0.45507699,\n",
       "         0.29427043, 0.23594618, 0.37763117],\n",
       "        [0.27828576, 0.04949854, 0.55037047, 0.43813125, 0.24416122,\n",
       "         0.50800788, 0.41362742, 0.44242196, 0.40016809, 0.21079634,\n",
       "         0.53890931, 0.45231979, 0.17910631],\n",
       "        [0.3559587 , 0.12421868, 0.43816792, 0.42489934, 0.25622754,\n",
       "         0.46020966, 0.38976972, 0.27601256, 0.45163842, 0.1797732 ,\n",
       "         0.38065765, 0.7135421 , 0.23843668]]])"
      ]
     },
     "execution_count": 11,
     "metadata": {},
     "output_type": "execute_result"
    }
   ],
   "source": [
    "som._weights #abaixo podemos visualizar 8 blocos de vetores e cada um contendo 13 pesos diferentes:"
   ]
  },
  {
   "cell_type": "code",
   "execution_count": 12,
   "metadata": {},
   "outputs": [
    {
     "data": {
      "text/plain": [
       "array([[1.01875531, 1.10132912, 1.19866488, 1.40142351, 1.00705757,\n",
       "        1.00729422, 1.02790339, 1.3191834 ],\n",
       "       [1.27769625, 1.06089328, 1.09905025, 1.38558857, 1.17897137,\n",
       "        1.09506616, 1.13952606, 1.07530871],\n",
       "       [1.03590066, 1.09911785, 1.06776071, 1.12662746, 0.94804238,\n",
       "        1.03776935, 1.07421396, 1.15995304],\n",
       "       [0.95989401, 1.08160766, 1.08224608, 1.11256251, 1.1814428 ,\n",
       "        1.3585863 , 0.96833328, 0.96678035],\n",
       "       [1.19789377, 1.08917309, 1.04282663, 0.96058684, 1.26527795,\n",
       "        1.20642795, 0.97870479, 1.00570549],\n",
       "       [0.81107365, 0.86585837, 0.88651701, 0.84704386, 1.43930838,\n",
       "        1.35380316, 1.0214357 , 1.157416  ],\n",
       "       [1.3460159 , 0.84860074, 0.79616552, 1.00829361, 1.23153114,\n",
       "        0.96697443, 0.86562016, 0.95414742],\n",
       "       [0.9546346 , 0.91339806, 1.21402751, 1.07032451, 1.18476395,\n",
       "        1.22011074, 0.9766536 , 0.84369113]])"
      ]
     },
     "execution_count": 12,
     "metadata": {},
     "output_type": "execute_result"
    }
   ],
   "source": [
    "som._activation_map #Podemos ver 7 linhas com 8 volumes, e aqui podemos ver os valores do mapa auto organizavel:"
   ]
  },
  {
   "cell_type": "code",
   "execution_count": 13,
   "metadata": {},
   "outputs": [],
   "source": [
    "q=som.activation_response(x) #Criando a variavel \"q\" para receber \"x\" usando o act_resp para transformar X em uma matriz 8x8, assim como conseguimos visualizar quantas vezes cada um dos neurônios foi selecionado como BMU"
   ]
  },
  {
   "cell_type": "code",
   "execution_count": 24,
   "metadata": {},
   "outputs": [
    {
     "data": {
      "text/plain": [
       "<matplotlib.colorbar.Colorbar at 0x1e08900eab0>"
      ]
     },
     "execution_count": 24,
     "metadata": {},
     "output_type": "execute_result"
    },
    {
     "data": {
      "image/png": "[encoded data removed]",
      "text/plain": [
       "<Figure size 640x480 with 2 Axes>"
      ]
     },
     "metadata": {},
     "output_type": "display_data"
    }
   ],
   "source": [
    "pcolor(som.distance_map().T) #Irá nos retornar uma matriz com os valores de distância // Além disso essa função irá calcular o valor MID (Mean Inter Neuron Distance) ou seja ira calcular a média da distância de cada neurônio em relação aos seus vizinhos // Colocamos o \".T\" pois ele irá retornar a matriz transposta. (O que era coluna vira linha e o que era linha vira coluna)\n",
    "colorbar()"
   ]
  },
  {
   "cell_type": "code",
   "execution_count": null,
   "metadata": {},
   "outputs": [],
   "source": [
    "#O Color Bar acima indica que, quanto mais escuro for o neurônio (média próxima de 0), maior é a semelhança dele com seus vizinhos. E quanto mais claro ele for (mais próximo de 1), mais diferente ele é dos seus vizinhos."
   ]
  },
  {
   "cell_type": "code",
   "execution_count": 28,
   "metadata": {},
   "outputs": [],
   "source": [
    "w=som.winner(x[2]) #Ira nos retornar neurônio ganhador dentro de cada um dos registros ou o BMU (em suma o melhor neurônio)\n",
    "markers=['o','s','D'] #Criando uma lista com valores aleatórios\n",
    "color=['r','g','b'] #Criando uma lista de cores sendo R=Red,G=green,B=blue"
   ]
  },
  {
   "cell_type": "code",
   "execution_count": null,
   "metadata": {},
   "outputs": [],
   "source": [
    "y[y==1]=0 #Se o Y for igual a 1, ele será atribuido a 0\n",
    "y[y==2]=1 #Se o Y for igual a 2, ele será atribuido a 1\n",
    "y[y==3]=2 #Se o Y for igual a 3, ele será atribuido a 2"
   ]
  }
 ],
 "metadata": {
  "kernelspec": {
   "display_name": "Python 3",
   "language": "python",
   "name": "python3"
  },
  "language_info": {
   "codemirror_mode": {
    "name": "ipython",
    "version": 3
   },
   "file_extension": ".py",
   "mimetype": "text/x-python",
   "name": "python",
   "nbconvert_exporter": "python",
   "pygments_lexer": "ipython3",
   "version": "3.12.3"
  }
 },
 "nbformat": 4,
 "nbformat_minor": 2
}
