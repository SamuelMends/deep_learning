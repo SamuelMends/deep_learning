{
 "cells": [
  {
   "cell_type": "code",
   "execution_count": 6,
   "metadata": {},
   "outputs": [],
   "source": [
    "#Importando nossas bibliotecas:\n",
    "from minisom import MiniSom\n",
    "import pandas as pd\n",
    "from sklearn.preprocessing import MinMaxScaler"
   ]
  },
  {
   "cell_type": "code",
   "execution_count": 5,
   "metadata": {},
   "outputs": [],
   "source": [
    "#Definindo o Data Set e as variáveis\n",
    "base=pd.read_csv('wines.csv')\n",
    "x=base.iloc[:,1:14].values\n",
    "y=base.iloc[:,0].values"
   ]
  },
  {
   "cell_type": "code",
   "execution_count": 7,
   "metadata": {},
   "outputs": [],
   "source": [
    "#Precisamos normalizar nossos dados em uma escala de 0 a 1:\n",
    "normalizador=MinMaxScaler(feature_range=(0,1))\n",
    "x=normalizador.fit_transform(x)"
   ]
  },
  {
   "cell_type": "code",
   "execution_count": 10,
   "metadata": {},
   "outputs": [],
   "source": [
    "#Construindo nosso mapa auto-organizável:\n",
    "som= MiniSom(x=8, y=8, input_len=13, sigma=1.0, learning_rate=0.5, random_seed=2) # X equivale a quantas linhas nosso mapa vai ter // Y equivale a quantas colunas nosso mapa vai ter // input_len equivale a quantas entradas nosso programa vai ter // sigma equivale ao raio de espaço que irá capturar os neurônios próximos baseados no BMU (best matching unit) // learning_rate equivale a taxa de aprendizagem e é o que define como os valores pesos serão ajustados a cada rodada // random_seed executa a função de nos dar sempre o mesmo resultado de quanto executamos o programa\n",
    "som.random_weights_init(x) #Atribuindo pesos aleatórios a nossa variavel\n",
    "som.train_random(data=x,num_iteration=100)"
   ]
  }
 ],
 "metadata": {
  "kernelspec": {
   "display_name": "Python 3",
   "language": "python",
   "name": "python3"
  },
  "language_info": {
   "codemirror_mode": {
    "name": "ipython",
    "version": 3
   },
   "file_extension": ".py",
   "mimetype": "text/x-python",
   "name": "python",
   "nbconvert_exporter": "python",
   "pygments_lexer": "ipython3",
   "version": "3.12.3"
  }
 },
 "nbformat": 4,
 "nbformat_minor": 2
}
